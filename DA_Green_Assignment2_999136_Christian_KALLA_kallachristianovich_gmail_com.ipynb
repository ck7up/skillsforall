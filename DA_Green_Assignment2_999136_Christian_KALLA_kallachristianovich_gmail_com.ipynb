{
  "cells": [
    {
      "cell_type": "markdown",
      "metadata": {
        "id": "view-in-github",
        "colab_type": "text"
      },
      "source": [
        "<a href=\"https://colab.research.google.com/github/ck7up/skillsforall/blob/ck7up-skillsforall/DA_Green_Assignment2_999136_Christian_KALLA_kallachristianovich_gmail_com.ipynb\" target=\"_parent\"><img src=\"https://colab.research.google.com/assets/colab-badge.svg\" alt=\"Open In Colab\"/></a>"
      ]
    },
    {
      "cell_type": "markdown",
      "metadata": {
        "id": "k-yRy4Y8KBCw"
      },
      "source": [
        "#Devoir 2 : Python\n",
        "\n",
        "*   **Date limite :** 15 octobre 2023 - 23h59 (heure de l’Atlantique)\n",
        "*   **Crédits :** 40 % de la note attribuée aux devoirs.\n",
        "*   **Groupe DA-Green :** Christian KALLA, kallachristianovich@gmail.com, Analyse des Données\n",
        "---\n",
        "\n"
      ]
    },
    {
      "cell_type": "markdown",
      "metadata": {
        "id": "Exm2pK1zKBCy"
      },
      "source": [
        "# Question 1 : Visualisation de données [15 points]\n",
        "### Jeu de données : titanic.csv\n",
        "\n"
      ]
    },
    {
      "cell_type": "markdown",
      "metadata": {
        "id": "a1PzVzAUKBC0"
      },
      "source": [
        "## Partie 1 : Exploration des données [4 points]"
      ]
    },
    {
      "cell_type": "code",
      "execution_count": 1,
      "metadata": {
        "id": "xjny1P2_O_iB"
      },
      "outputs": [],
      "source": [
        "#Je commence par télécharger et Montez Google Drive dans Google Colab\n",
        "# from google.colab import drive\n",
        "# drive.mount(\"/content/gdrive\")"
      ]
    },
    {
      "cell_type": "markdown",
      "metadata": {
        "id": "P7xTASBkKBC1"
      },
      "source": [
        "### *1.\tChargez le jeu de données Titanic dans un DataFrame pandas. [1]*"
      ]
    },
    {
      "cell_type": "code",
      "execution_count": 2,
      "metadata": {
        "id": "reWOLa6_KBC1"
      },
      "outputs": [],
      "source": [
        "#j\"importe les librairies necessaires pour le traitement de nos données\n",
        "import pandas as pd\n",
        "import numpy as np\n",
        "import matplotlib.pyplot as plt\n",
        "import seaborn as sns"
      ]
    },
    {
      "cell_type": "code",
      "execution_count": 3,
      "metadata": {
        "id": "vpHyY-TuKBC2"
      },
      "outputs": [],
      "source": [
        "# Je mets dans une variable le lien d\"acces au fichier Google qui comporte mon model de données au format CSV\n",
        "titanic_model_file = \"https://docs.google.com/spreadsheets/d/1WFPR0NyjFODezjGu1oBIpLPyHS8wbGOpAXHbL0dufc8/export?format=csv\"\n",
        "\n",
        "# Je Charge le fichier CSV dans un DataFrame df\n",
        "df_titanic = pd.read_csv(titanic_model_file)"
      ]
    },
    {
      "cell_type": "markdown",
      "metadata": {
        "id": "n-O5_mu0KBC3"
      },
      "source": [
        "### *2.\tExplorez les premières lignes du jeu de données pour comprendre sa structure. [1]*"
      ]
    },
    {
      "cell_type": "code",
      "execution_count": 4,
      "metadata": {
        "colab": {
          "base_uri": "https://localhost:8080/",
          "height": 206
        },
        "id": "kWKpgT82eCnY",
        "outputId": "fb45179e-8af1-4ace-ba66-1fc8337688b7"
      },
      "outputs": [
        {
          "output_type": "execute_result",
          "data": {
            "text/plain": [
              "   PassengerId  Survived  Pclass  \\\n",
              "0            1         0       3   \n",
              "1            2         1       1   \n",
              "2            3         1       3   \n",
              "3            4         1       1   \n",
              "4            5         0       3   \n",
              "\n",
              "                                                Name     Sex   Age  Parch  \\\n",
              "0                            Braund, Mr. Owen Harris    male  22.0      0   \n",
              "1  Cumings, Mrs. John Bradley (Florence Briggs Th...  female  38.0      0   \n",
              "2                             Heikkinen, Miss. Laina  female  26.0      0   \n",
              "3       Futrelle, Mrs. Jacques Heath (Lily May Peel)  female  35.0      0   \n",
              "4                           Allen, Mr. William Henry    male  35.0      0   \n",
              "\n",
              "      Fare Embarked  \n",
              "0   7.2500        S  \n",
              "1  71.2833        C  \n",
              "2   7.9250        S  \n",
              "3  53.1000        S  \n",
              "4   8.0500        S  "
            ],
            "text/html": [
              "\n",
              "  <div id=\"df-d93a166d-ad9a-4898-99f6-2762023ac8a1\" class=\"colab-df-container\">\n",
              "    <div>\n",
              "<style scoped>\n",
              "    .dataframe tbody tr th:only-of-type {\n",
              "        vertical-align: middle;\n",
              "    }\n",
              "\n",
              "    .dataframe tbody tr th {\n",
              "        vertical-align: top;\n",
              "    }\n",
              "\n",
              "    .dataframe thead th {\n",
              "        text-align: right;\n",
              "    }\n",
              "</style>\n",
              "<table border=\"1\" class=\"dataframe\">\n",
              "  <thead>\n",
              "    <tr style=\"text-align: right;\">\n",
              "      <th></th>\n",
              "      <th>PassengerId</th>\n",
              "      <th>Survived</th>\n",
              "      <th>Pclass</th>\n",
              "      <th>Name</th>\n",
              "      <th>Sex</th>\n",
              "      <th>Age</th>\n",
              "      <th>Parch</th>\n",
              "      <th>Fare</th>\n",
              "      <th>Embarked</th>\n",
              "    </tr>\n",
              "  </thead>\n",
              "  <tbody>\n",
              "    <tr>\n",
              "      <th>0</th>\n",
              "      <td>1</td>\n",
              "      <td>0</td>\n",
              "      <td>3</td>\n",
              "      <td>Braund, Mr. Owen Harris</td>\n",
              "      <td>male</td>\n",
              "      <td>22.0</td>\n",
              "      <td>0</td>\n",
              "      <td>7.2500</td>\n",
              "      <td>S</td>\n",
              "    </tr>\n",
              "    <tr>\n",
              "      <th>1</th>\n",
              "      <td>2</td>\n",
              "      <td>1</td>\n",
              "      <td>1</td>\n",
              "      <td>Cumings, Mrs. John Bradley (Florence Briggs Th...</td>\n",
              "      <td>female</td>\n",
              "      <td>38.0</td>\n",
              "      <td>0</td>\n",
              "      <td>71.2833</td>\n",
              "      <td>C</td>\n",
              "    </tr>\n",
              "    <tr>\n",
              "      <th>2</th>\n",
              "      <td>3</td>\n",
              "      <td>1</td>\n",
              "      <td>3</td>\n",
              "      <td>Heikkinen, Miss. Laina</td>\n",
              "      <td>female</td>\n",
              "      <td>26.0</td>\n",
              "      <td>0</td>\n",
              "      <td>7.9250</td>\n",
              "      <td>S</td>\n",
              "    </tr>\n",
              "    <tr>\n",
              "      <th>3</th>\n",
              "      <td>4</td>\n",
              "      <td>1</td>\n",
              "      <td>1</td>\n",
              "      <td>Futrelle, Mrs. Jacques Heath (Lily May Peel)</td>\n",
              "      <td>female</td>\n",
              "      <td>35.0</td>\n",
              "      <td>0</td>\n",
              "      <td>53.1000</td>\n",
              "      <td>S</td>\n",
              "    </tr>\n",
              "    <tr>\n",
              "      <th>4</th>\n",
              "      <td>5</td>\n",
              "      <td>0</td>\n",
              "      <td>3</td>\n",
              "      <td>Allen, Mr. William Henry</td>\n",
              "      <td>male</td>\n",
              "      <td>35.0</td>\n",
              "      <td>0</td>\n",
              "      <td>8.0500</td>\n",
              "      <td>S</td>\n",
              "    </tr>\n",
              "  </tbody>\n",
              "</table>\n",
              "</div>\n",
              "    <div class=\"colab-df-buttons\">\n",
              "\n",
              "  <div class=\"colab-df-container\">\n",
              "    <button class=\"colab-df-convert\" onclick=\"convertToInteractive('df-d93a166d-ad9a-4898-99f6-2762023ac8a1')\"\n",
              "            title=\"Convert this dataframe to an interactive table.\"\n",
              "            style=\"display:none;\">\n",
              "\n",
              "  <svg xmlns=\"http://www.w3.org/2000/svg\" height=\"24px\" viewBox=\"0 -960 960 960\">\n",
              "    <path d=\"M120-120v-720h720v720H120Zm60-500h600v-160H180v160Zm220 220h160v-160H400v160Zm0 220h160v-160H400v160ZM180-400h160v-160H180v160Zm440 0h160v-160H620v160ZM180-180h160v-160H180v160Zm440 0h160v-160H620v160Z\"/>\n",
              "  </svg>\n",
              "    </button>\n",
              "\n",
              "  <style>\n",
              "    .colab-df-container {\n",
              "      display:flex;\n",
              "      gap: 12px;\n",
              "    }\n",
              "\n",
              "    .colab-df-convert {\n",
              "      background-color: #E8F0FE;\n",
              "      border: none;\n",
              "      border-radius: 50%;\n",
              "      cursor: pointer;\n",
              "      display: none;\n",
              "      fill: #1967D2;\n",
              "      height: 32px;\n",
              "      padding: 0 0 0 0;\n",
              "      width: 32px;\n",
              "    }\n",
              "\n",
              "    .colab-df-convert:hover {\n",
              "      background-color: #E2EBFA;\n",
              "      box-shadow: 0px 1px 2px rgba(60, 64, 67, 0.3), 0px 1px 3px 1px rgba(60, 64, 67, 0.15);\n",
              "      fill: #174EA6;\n",
              "    }\n",
              "\n",
              "    .colab-df-buttons div {\n",
              "      margin-bottom: 4px;\n",
              "    }\n",
              "\n",
              "    [theme=dark] .colab-df-convert {\n",
              "      background-color: #3B4455;\n",
              "      fill: #D2E3FC;\n",
              "    }\n",
              "\n",
              "    [theme=dark] .colab-df-convert:hover {\n",
              "      background-color: #434B5C;\n",
              "      box-shadow: 0px 1px 3px 1px rgba(0, 0, 0, 0.15);\n",
              "      filter: drop-shadow(0px 1px 2px rgba(0, 0, 0, 0.3));\n",
              "      fill: #FFFFFF;\n",
              "    }\n",
              "  </style>\n",
              "\n",
              "    <script>\n",
              "      const buttonEl =\n",
              "        document.querySelector('#df-d93a166d-ad9a-4898-99f6-2762023ac8a1 button.colab-df-convert');\n",
              "      buttonEl.style.display =\n",
              "        google.colab.kernel.accessAllowed ? 'block' : 'none';\n",
              "\n",
              "      async function convertToInteractive(key) {\n",
              "        const element = document.querySelector('#df-d93a166d-ad9a-4898-99f6-2762023ac8a1');\n",
              "        const dataTable =\n",
              "          await google.colab.kernel.invokeFunction('convertToInteractive',\n",
              "                                                    [key], {});\n",
              "        if (!dataTable) return;\n",
              "\n",
              "        const docLinkHtml = 'Like what you see? Visit the ' +\n",
              "          '<a target=\"_blank\" href=https://colab.research.google.com/notebooks/data_table.ipynb>data table notebook</a>'\n",
              "          + ' to learn more about interactive tables.';\n",
              "        element.innerHTML = '';\n",
              "        dataTable['output_type'] = 'display_data';\n",
              "        await google.colab.output.renderOutput(dataTable, element);\n",
              "        const docLink = document.createElement('div');\n",
              "        docLink.innerHTML = docLinkHtml;\n",
              "        element.appendChild(docLink);\n",
              "      }\n",
              "    </script>\n",
              "  </div>\n",
              "\n",
              "\n",
              "<div id=\"df-d101f8d2-91d6-481e-9ec4-69fd7f077933\">\n",
              "  <button class=\"colab-df-quickchart\" onclick=\"quickchart('df-d101f8d2-91d6-481e-9ec4-69fd7f077933')\"\n",
              "            title=\"Suggest charts.\"\n",
              "            style=\"display:none;\">\n",
              "\n",
              "<svg xmlns=\"http://www.w3.org/2000/svg\" height=\"24px\"viewBox=\"0 0 24 24\"\n",
              "     width=\"24px\">\n",
              "    <g>\n",
              "        <path d=\"M19 3H5c-1.1 0-2 .9-2 2v14c0 1.1.9 2 2 2h14c1.1 0 2-.9 2-2V5c0-1.1-.9-2-2-2zM9 17H7v-7h2v7zm4 0h-2V7h2v10zm4 0h-2v-4h2v4z\"/>\n",
              "    </g>\n",
              "</svg>\n",
              "  </button>\n",
              "\n",
              "<style>\n",
              "  .colab-df-quickchart {\n",
              "      --bg-color: #E8F0FE;\n",
              "      --fill-color: #1967D2;\n",
              "      --hover-bg-color: #E2EBFA;\n",
              "      --hover-fill-color: #174EA6;\n",
              "      --disabled-fill-color: #AAA;\n",
              "      --disabled-bg-color: #DDD;\n",
              "  }\n",
              "\n",
              "  [theme=dark] .colab-df-quickchart {\n",
              "      --bg-color: #3B4455;\n",
              "      --fill-color: #D2E3FC;\n",
              "      --hover-bg-color: #434B5C;\n",
              "      --hover-fill-color: #FFFFFF;\n",
              "      --disabled-bg-color: #3B4455;\n",
              "      --disabled-fill-color: #666;\n",
              "  }\n",
              "\n",
              "  .colab-df-quickchart {\n",
              "    background-color: var(--bg-color);\n",
              "    border: none;\n",
              "    border-radius: 50%;\n",
              "    cursor: pointer;\n",
              "    display: none;\n",
              "    fill: var(--fill-color);\n",
              "    height: 32px;\n",
              "    padding: 0;\n",
              "    width: 32px;\n",
              "  }\n",
              "\n",
              "  .colab-df-quickchart:hover {\n",
              "    background-color: var(--hover-bg-color);\n",
              "    box-shadow: 0 1px 2px rgba(60, 64, 67, 0.3), 0 1px 3px 1px rgba(60, 64, 67, 0.15);\n",
              "    fill: var(--button-hover-fill-color);\n",
              "  }\n",
              "\n",
              "  .colab-df-quickchart-complete:disabled,\n",
              "  .colab-df-quickchart-complete:disabled:hover {\n",
              "    background-color: var(--disabled-bg-color);\n",
              "    fill: var(--disabled-fill-color);\n",
              "    box-shadow: none;\n",
              "  }\n",
              "\n",
              "  .colab-df-spinner {\n",
              "    border: 2px solid var(--fill-color);\n",
              "    border-color: transparent;\n",
              "    border-bottom-color: var(--fill-color);\n",
              "    animation:\n",
              "      spin 1s steps(1) infinite;\n",
              "  }\n",
              "\n",
              "  @keyframes spin {\n",
              "    0% {\n",
              "      border-color: transparent;\n",
              "      border-bottom-color: var(--fill-color);\n",
              "      border-left-color: var(--fill-color);\n",
              "    }\n",
              "    20% {\n",
              "      border-color: transparent;\n",
              "      border-left-color: var(--fill-color);\n",
              "      border-top-color: var(--fill-color);\n",
              "    }\n",
              "    30% {\n",
              "      border-color: transparent;\n",
              "      border-left-color: var(--fill-color);\n",
              "      border-top-color: var(--fill-color);\n",
              "      border-right-color: var(--fill-color);\n",
              "    }\n",
              "    40% {\n",
              "      border-color: transparent;\n",
              "      border-right-color: var(--fill-color);\n",
              "      border-top-color: var(--fill-color);\n",
              "    }\n",
              "    60% {\n",
              "      border-color: transparent;\n",
              "      border-right-color: var(--fill-color);\n",
              "    }\n",
              "    80% {\n",
              "      border-color: transparent;\n",
              "      border-right-color: var(--fill-color);\n",
              "      border-bottom-color: var(--fill-color);\n",
              "    }\n",
              "    90% {\n",
              "      border-color: transparent;\n",
              "      border-bottom-color: var(--fill-color);\n",
              "    }\n",
              "  }\n",
              "</style>\n",
              "\n",
              "  <script>\n",
              "    async function quickchart(key) {\n",
              "      const quickchartButtonEl =\n",
              "        document.querySelector('#' + key + ' button');\n",
              "      quickchartButtonEl.disabled = true;  // To prevent multiple clicks.\n",
              "      quickchartButtonEl.classList.add('colab-df-spinner');\n",
              "      try {\n",
              "        const charts = await google.colab.kernel.invokeFunction(\n",
              "            'suggestCharts', [key], {});\n",
              "      } catch (error) {\n",
              "        console.error('Error during call to suggestCharts:', error);\n",
              "      }\n",
              "      quickchartButtonEl.classList.remove('colab-df-spinner');\n",
              "      quickchartButtonEl.classList.add('colab-df-quickchart-complete');\n",
              "    }\n",
              "    (() => {\n",
              "      let quickchartButtonEl =\n",
              "        document.querySelector('#df-d101f8d2-91d6-481e-9ec4-69fd7f077933 button');\n",
              "      quickchartButtonEl.style.display =\n",
              "        google.colab.kernel.accessAllowed ? 'block' : 'none';\n",
              "    })();\n",
              "  </script>\n",
              "</div>\n",
              "    </div>\n",
              "  </div>\n"
            ]
          },
          "metadata": {},
          "execution_count": 4
        }
      ],
      "source": [
        "# print(df)\n",
        "# j\"affiche les premières lignes du DataFrame\n",
        "df_titanic.head()"
      ]
    },
    {
      "cell_type": "markdown",
      "metadata": {
        "id": "M-LFYG7oKBC4"
      },
      "source": [
        "### *3.\tCalculez et visualisez les statistiques de base (moyenne, médiane, etc.) pour les colonnes numériques [1 correct numérique + 1].*"
      ]
    },
    {
      "cell_type": "code",
      "execution_count": 5,
      "metadata": {
        "colab": {
          "base_uri": "https://localhost:8080/",
          "height": 300
        },
        "id": "zr4EiHMQeKXV",
        "outputId": "8b5fe69e-8834-431b-a591-8c6db325cbe9"
      },
      "outputs": [
        {
          "output_type": "execute_result",
          "data": {
            "text/plain": [
              "       PassengerId    Survived      Pclass         Age       Parch        Fare\n",
              "count   891.000000  891.000000  891.000000  714.000000  891.000000  891.000000\n",
              "mean    446.000000    0.383838    2.308642   29.699118    0.381594   32.204208\n",
              "std     257.353842    0.486592    0.836071   14.526497    0.806057   49.693429\n",
              "min       1.000000    0.000000    1.000000    0.420000    0.000000    0.000000\n",
              "25%     223.500000    0.000000    2.000000   20.125000    0.000000    7.910400\n",
              "50%     446.000000    0.000000    3.000000   28.000000    0.000000   14.454200\n",
              "75%     668.500000    1.000000    3.000000   38.000000    0.000000   31.000000\n",
              "max     891.000000    1.000000    3.000000   80.000000    6.000000  512.329200"
            ],
            "text/html": [
              "\n",
              "  <div id=\"df-05d4bfaf-04ae-4632-b249-0c7458fc6870\" class=\"colab-df-container\">\n",
              "    <div>\n",
              "<style scoped>\n",
              "    .dataframe tbody tr th:only-of-type {\n",
              "        vertical-align: middle;\n",
              "    }\n",
              "\n",
              "    .dataframe tbody tr th {\n",
              "        vertical-align: top;\n",
              "    }\n",
              "\n",
              "    .dataframe thead th {\n",
              "        text-align: right;\n",
              "    }\n",
              "</style>\n",
              "<table border=\"1\" class=\"dataframe\">\n",
              "  <thead>\n",
              "    <tr style=\"text-align: right;\">\n",
              "      <th></th>\n",
              "      <th>PassengerId</th>\n",
              "      <th>Survived</th>\n",
              "      <th>Pclass</th>\n",
              "      <th>Age</th>\n",
              "      <th>Parch</th>\n",
              "      <th>Fare</th>\n",
              "    </tr>\n",
              "  </thead>\n",
              "  <tbody>\n",
              "    <tr>\n",
              "      <th>count</th>\n",
              "      <td>891.000000</td>\n",
              "      <td>891.000000</td>\n",
              "      <td>891.000000</td>\n",
              "      <td>714.000000</td>\n",
              "      <td>891.000000</td>\n",
              "      <td>891.000000</td>\n",
              "    </tr>\n",
              "    <tr>\n",
              "      <th>mean</th>\n",
              "      <td>446.000000</td>\n",
              "      <td>0.383838</td>\n",
              "      <td>2.308642</td>\n",
              "      <td>29.699118</td>\n",
              "      <td>0.381594</td>\n",
              "      <td>32.204208</td>\n",
              "    </tr>\n",
              "    <tr>\n",
              "      <th>std</th>\n",
              "      <td>257.353842</td>\n",
              "      <td>0.486592</td>\n",
              "      <td>0.836071</td>\n",
              "      <td>14.526497</td>\n",
              "      <td>0.806057</td>\n",
              "      <td>49.693429</td>\n",
              "    </tr>\n",
              "    <tr>\n",
              "      <th>min</th>\n",
              "      <td>1.000000</td>\n",
              "      <td>0.000000</td>\n",
              "      <td>1.000000</td>\n",
              "      <td>0.420000</td>\n",
              "      <td>0.000000</td>\n",
              "      <td>0.000000</td>\n",
              "    </tr>\n",
              "    <tr>\n",
              "      <th>25%</th>\n",
              "      <td>223.500000</td>\n",
              "      <td>0.000000</td>\n",
              "      <td>2.000000</td>\n",
              "      <td>20.125000</td>\n",
              "      <td>0.000000</td>\n",
              "      <td>7.910400</td>\n",
              "    </tr>\n",
              "    <tr>\n",
              "      <th>50%</th>\n",
              "      <td>446.000000</td>\n",
              "      <td>0.000000</td>\n",
              "      <td>3.000000</td>\n",
              "      <td>28.000000</td>\n",
              "      <td>0.000000</td>\n",
              "      <td>14.454200</td>\n",
              "    </tr>\n",
              "    <tr>\n",
              "      <th>75%</th>\n",
              "      <td>668.500000</td>\n",
              "      <td>1.000000</td>\n",
              "      <td>3.000000</td>\n",
              "      <td>38.000000</td>\n",
              "      <td>0.000000</td>\n",
              "      <td>31.000000</td>\n",
              "    </tr>\n",
              "    <tr>\n",
              "      <th>max</th>\n",
              "      <td>891.000000</td>\n",
              "      <td>1.000000</td>\n",
              "      <td>3.000000</td>\n",
              "      <td>80.000000</td>\n",
              "      <td>6.000000</td>\n",
              "      <td>512.329200</td>\n",
              "    </tr>\n",
              "  </tbody>\n",
              "</table>\n",
              "</div>\n",
              "    <div class=\"colab-df-buttons\">\n",
              "\n",
              "  <div class=\"colab-df-container\">\n",
              "    <button class=\"colab-df-convert\" onclick=\"convertToInteractive('df-05d4bfaf-04ae-4632-b249-0c7458fc6870')\"\n",
              "            title=\"Convert this dataframe to an interactive table.\"\n",
              "            style=\"display:none;\">\n",
              "\n",
              "  <svg xmlns=\"http://www.w3.org/2000/svg\" height=\"24px\" viewBox=\"0 -960 960 960\">\n",
              "    <path d=\"M120-120v-720h720v720H120Zm60-500h600v-160H180v160Zm220 220h160v-160H400v160Zm0 220h160v-160H400v160ZM180-400h160v-160H180v160Zm440 0h160v-160H620v160ZM180-180h160v-160H180v160Zm440 0h160v-160H620v160Z\"/>\n",
              "  </svg>\n",
              "    </button>\n",
              "\n",
              "  <style>\n",
              "    .colab-df-container {\n",
              "      display:flex;\n",
              "      gap: 12px;\n",
              "    }\n",
              "\n",
              "    .colab-df-convert {\n",
              "      background-color: #E8F0FE;\n",
              "      border: none;\n",
              "      border-radius: 50%;\n",
              "      cursor: pointer;\n",
              "      display: none;\n",
              "      fill: #1967D2;\n",
              "      height: 32px;\n",
              "      padding: 0 0 0 0;\n",
              "      width: 32px;\n",
              "    }\n",
              "\n",
              "    .colab-df-convert:hover {\n",
              "      background-color: #E2EBFA;\n",
              "      box-shadow: 0px 1px 2px rgba(60, 64, 67, 0.3), 0px 1px 3px 1px rgba(60, 64, 67, 0.15);\n",
              "      fill: #174EA6;\n",
              "    }\n",
              "\n",
              "    .colab-df-buttons div {\n",
              "      margin-bottom: 4px;\n",
              "    }\n",
              "\n",
              "    [theme=dark] .colab-df-convert {\n",
              "      background-color: #3B4455;\n",
              "      fill: #D2E3FC;\n",
              "    }\n",
              "\n",
              "    [theme=dark] .colab-df-convert:hover {\n",
              "      background-color: #434B5C;\n",
              "      box-shadow: 0px 1px 3px 1px rgba(0, 0, 0, 0.15);\n",
              "      filter: drop-shadow(0px 1px 2px rgba(0, 0, 0, 0.3));\n",
              "      fill: #FFFFFF;\n",
              "    }\n",
              "  </style>\n",
              "\n",
              "    <script>\n",
              "      const buttonEl =\n",
              "        document.querySelector('#df-05d4bfaf-04ae-4632-b249-0c7458fc6870 button.colab-df-convert');\n",
              "      buttonEl.style.display =\n",
              "        google.colab.kernel.accessAllowed ? 'block' : 'none';\n",
              "\n",
              "      async function convertToInteractive(key) {\n",
              "        const element = document.querySelector('#df-05d4bfaf-04ae-4632-b249-0c7458fc6870');\n",
              "        const dataTable =\n",
              "          await google.colab.kernel.invokeFunction('convertToInteractive',\n",
              "                                                    [key], {});\n",
              "        if (!dataTable) return;\n",
              "\n",
              "        const docLinkHtml = 'Like what you see? Visit the ' +\n",
              "          '<a target=\"_blank\" href=https://colab.research.google.com/notebooks/data_table.ipynb>data table notebook</a>'\n",
              "          + ' to learn more about interactive tables.';\n",
              "        element.innerHTML = '';\n",
              "        dataTable['output_type'] = 'display_data';\n",
              "        await google.colab.output.renderOutput(dataTable, element);\n",
              "        const docLink = document.createElement('div');\n",
              "        docLink.innerHTML = docLinkHtml;\n",
              "        element.appendChild(docLink);\n",
              "      }\n",
              "    </script>\n",
              "  </div>\n",
              "\n",
              "\n",
              "<div id=\"df-33b0d171-0fad-461f-b684-f47a95787344\">\n",
              "  <button class=\"colab-df-quickchart\" onclick=\"quickchart('df-33b0d171-0fad-461f-b684-f47a95787344')\"\n",
              "            title=\"Suggest charts.\"\n",
              "            style=\"display:none;\">\n",
              "\n",
              "<svg xmlns=\"http://www.w3.org/2000/svg\" height=\"24px\"viewBox=\"0 0 24 24\"\n",
              "     width=\"24px\">\n",
              "    <g>\n",
              "        <path d=\"M19 3H5c-1.1 0-2 .9-2 2v14c0 1.1.9 2 2 2h14c1.1 0 2-.9 2-2V5c0-1.1-.9-2-2-2zM9 17H7v-7h2v7zm4 0h-2V7h2v10zm4 0h-2v-4h2v4z\"/>\n",
              "    </g>\n",
              "</svg>\n",
              "  </button>\n",
              "\n",
              "<style>\n",
              "  .colab-df-quickchart {\n",
              "      --bg-color: #E8F0FE;\n",
              "      --fill-color: #1967D2;\n",
              "      --hover-bg-color: #E2EBFA;\n",
              "      --hover-fill-color: #174EA6;\n",
              "      --disabled-fill-color: #AAA;\n",
              "      --disabled-bg-color: #DDD;\n",
              "  }\n",
              "\n",
              "  [theme=dark] .colab-df-quickchart {\n",
              "      --bg-color: #3B4455;\n",
              "      --fill-color: #D2E3FC;\n",
              "      --hover-bg-color: #434B5C;\n",
              "      --hover-fill-color: #FFFFFF;\n",
              "      --disabled-bg-color: #3B4455;\n",
              "      --disabled-fill-color: #666;\n",
              "  }\n",
              "\n",
              "  .colab-df-quickchart {\n",
              "    background-color: var(--bg-color);\n",
              "    border: none;\n",
              "    border-radius: 50%;\n",
              "    cursor: pointer;\n",
              "    display: none;\n",
              "    fill: var(--fill-color);\n",
              "    height: 32px;\n",
              "    padding: 0;\n",
              "    width: 32px;\n",
              "  }\n",
              "\n",
              "  .colab-df-quickchart:hover {\n",
              "    background-color: var(--hover-bg-color);\n",
              "    box-shadow: 0 1px 2px rgba(60, 64, 67, 0.3), 0 1px 3px 1px rgba(60, 64, 67, 0.15);\n",
              "    fill: var(--button-hover-fill-color);\n",
              "  }\n",
              "\n",
              "  .colab-df-quickchart-complete:disabled,\n",
              "  .colab-df-quickchart-complete:disabled:hover {\n",
              "    background-color: var(--disabled-bg-color);\n",
              "    fill: var(--disabled-fill-color);\n",
              "    box-shadow: none;\n",
              "  }\n",
              "\n",
              "  .colab-df-spinner {\n",
              "    border: 2px solid var(--fill-color);\n",
              "    border-color: transparent;\n",
              "    border-bottom-color: var(--fill-color);\n",
              "    animation:\n",
              "      spin 1s steps(1) infinite;\n",
              "  }\n",
              "\n",
              "  @keyframes spin {\n",
              "    0% {\n",
              "      border-color: transparent;\n",
              "      border-bottom-color: var(--fill-color);\n",
              "      border-left-color: var(--fill-color);\n",
              "    }\n",
              "    20% {\n",
              "      border-color: transparent;\n",
              "      border-left-color: var(--fill-color);\n",
              "      border-top-color: var(--fill-color);\n",
              "    }\n",
              "    30% {\n",
              "      border-color: transparent;\n",
              "      border-left-color: var(--fill-color);\n",
              "      border-top-color: var(--fill-color);\n",
              "      border-right-color: var(--fill-color);\n",
              "    }\n",
              "    40% {\n",
              "      border-color: transparent;\n",
              "      border-right-color: var(--fill-color);\n",
              "      border-top-color: var(--fill-color);\n",
              "    }\n",
              "    60% {\n",
              "      border-color: transparent;\n",
              "      border-right-color: var(--fill-color);\n",
              "    }\n",
              "    80% {\n",
              "      border-color: transparent;\n",
              "      border-right-color: var(--fill-color);\n",
              "      border-bottom-color: var(--fill-color);\n",
              "    }\n",
              "    90% {\n",
              "      border-color: transparent;\n",
              "      border-bottom-color: var(--fill-color);\n",
              "    }\n",
              "  }\n",
              "</style>\n",
              "\n",
              "  <script>\n",
              "    async function quickchart(key) {\n",
              "      const quickchartButtonEl =\n",
              "        document.querySelector('#' + key + ' button');\n",
              "      quickchartButtonEl.disabled = true;  // To prevent multiple clicks.\n",
              "      quickchartButtonEl.classList.add('colab-df-spinner');\n",
              "      try {\n",
              "        const charts = await google.colab.kernel.invokeFunction(\n",
              "            'suggestCharts', [key], {});\n",
              "      } catch (error) {\n",
              "        console.error('Error during call to suggestCharts:', error);\n",
              "      }\n",
              "      quickchartButtonEl.classList.remove('colab-df-spinner');\n",
              "      quickchartButtonEl.classList.add('colab-df-quickchart-complete');\n",
              "    }\n",
              "    (() => {\n",
              "      let quickchartButtonEl =\n",
              "        document.querySelector('#df-33b0d171-0fad-461f-b684-f47a95787344 button');\n",
              "      quickchartButtonEl.style.display =\n",
              "        google.colab.kernel.accessAllowed ? 'block' : 'none';\n",
              "    })();\n",
              "  </script>\n",
              "</div>\n",
              "    </div>\n",
              "  </div>\n"
            ]
          },
          "metadata": {},
          "execution_count": 5
        }
      ],
      "source": [
        "#Calcule des statistiques descriptives (min, max, moyenne, ecart-type) pour chaque colonne de mon DataFrame df\n",
        "stat_descrip = df_titanic.describe()\n",
        "# print(\"Statistiques descriptives :\\n\\n\", stat_descrip)\n",
        "stat_descrip"
      ]
    },
    {
      "cell_type": "markdown",
      "metadata": {
        "id": "jvmXBLp1pOEv"
      },
      "source": [
        "## Partie 2 : Visualisation [11 points]"
      ]
    },
    {
      "cell_type": "markdown",
      "metadata": {
        "id": "TyxVOAvqpXim"
      },
      "source": [
        "### *1.\tCréez un diagramme à barres pour montrer la distribution des passagers par classe (1ère, 2ème, 3ème). [1]*"
      ]
    },
    {
      "cell_type": "code",
      "execution_count": 6,
      "metadata": {
        "colab": {
          "base_uri": "https://localhost:8080/",
          "height": 493
        },
        "id": "dJLHOWtgrPSV",
        "outputId": "4be463b6-f553-4ba9-d95b-641d5fb256fb"
      },
      "outputs": [
        {
          "output_type": "display_data",
          "data": {
            "text/plain": [
              "<Figure size 640x480 with 1 Axes>"
            ],
            "image/png": "[encoded data removed]"
          },
          "metadata": {}
        }
      ],
      "source": [
        "# Calculer le nombre de passagers par classe\n",
        "sns.countplot(data = df_titanic, x=\"Pclass\")\n",
        "plt.title(\"Distribution des passagers par classe (1ère, 2ème, 3ème)\\n\")\n",
        "plt.xlabel(\"Classe\")\n",
        "plt.ylabel(\"Nombre de Passager par classe\")\n",
        "plt.show()"
      ]
    },
    {
      "cell_type": "markdown",
      "metadata": {
        "id": "HnkWLiZoGqnU"
      },
      "source": [
        "###*2.\tCréez un histogramme pour visualiser la répartition des passagers par âge. [1]*"
      ]
    },
    {
      "cell_type": "code",
      "execution_count": 7,
      "metadata": {
        "colab": {
          "base_uri": "https://localhost:8080/",
          "height": 489
        },
        "id": "E3AraRjQ8vcb",
        "outputId": "da6021af-2c59-40af-d613-34abd8d27c72"
      },
      "outputs": [
        {
          "output_type": "execute_result",
          "data": {
            "text/plain": [
              "Text(0, 0.5, 'Nombre de Passager')"
            ]
          },
          "metadata": {},
          "execution_count": 7
        },
        {
          "output_type": "display_data",
          "data": {
            "text/plain": [
              "<Figure size 640x480 with 1 Axes>"
            ],
            "image/png": "[encoded data removed]"
          },
          "metadata": {}
        }
      ],
      "source": [
        "sns.histplot(data = df_titanic, x=\"Age\")\n",
        "plt.title(\"Histogramme - répartition des passagers par âge\")\n",
        "plt.xlabel(\"Age des passagers\")\n",
        "plt.ylabel(\"Nombre de Passager\")"
      ]
    },
    {
      "cell_type": "markdown",
      "metadata": {
        "id": "EOeFz_02G8PF"
      },
      "source": [
        "### *3.\tCalculez et visualisez le taux de survie des passagers. Créez un diagramme circulaire (pie chart) pour représenter cette information. [1]*"
      ]
    },
    {
      "cell_type": "code",
      "execution_count": 8,
      "metadata": {
        "colab": {
          "base_uri": "https://localhost:8080/",
          "height": 480
        },
        "id": "a--n-QaiAIyh",
        "outputId": "012e39a0-ee46-471e-8d9c-f14efa610ab6"
      },
      "outputs": [
        {
          "output_type": "stream",
          "name": "stdout",
          "text": [
            "\n",
            "Il y a 549 qui ont survécus et 342 qui n\"ont pas survécus.\n",
            "\n"
          ]
        },
        {
          "output_type": "display_data",
          "data": {
            "text/plain": [
              "<Figure size 640x480 with 1 Axes>"
            ],
            "image/png": "[encoded data removed]"
          },
          "metadata": {}
        }
      ],
      "source": [
        "# Comptons le nombre de passagers par classe\n",
        "count_survival_passenger = df_titanic[\"Survived\"].value_counts()\n",
        "\n",
        "# On affiche le nombre de passagers par classe\n",
        "Counted_passenger_per_Status = [count_survival_passenger[1], count_survival_passenger[0]]\n",
        "print(\"\\nIl y a\", Counted_passenger_per_Status[1],\"qui ont survécus et\", Counted_passenger_per_Status[0], \"qui n\\\"ont pas survécus.\\n\")\n",
        "\n",
        "#on crée les labels pour notre diagramme\n",
        "passager_status = [\"Survécu\", \"Non survécu\"]\n",
        "\n",
        "# Création de notre diagramme circulaire\n",
        "plt.pie(Counted_passenger_per_Status, labels=passager_status, autopct=\"%1.1f%%\")\n",
        "plt.title(\"Taux de survie des passagers\")\n",
        "\n",
        "plt.show()"
      ]
    },
    {
      "cell_type": "markdown",
      "metadata": {
        "id": "NnlKw6VxOckv"
      },
      "source": [
        "### *4. Créez un diagramme à barres (bar chart) pour montrer le nombre de passagers par sexe. [1]*"
      ]
    },
    {
      "cell_type": "code",
      "execution_count": 9,
      "metadata": {
        "colab": {
          "base_uri": "https://localhost:8080/",
          "height": 558
        },
        "id": "qoP3U-YfOhHP",
        "outputId": "1689873e-f530-415c-ccab-98db3cf7d4c5"
      },
      "outputs": [
        {
          "output_type": "stream",
          "name": "stdout",
          "text": [
            "\n",
            "Il y a 577 hommes et 314 femmes.\n",
            "\n"
          ]
        },
        {
          "output_type": "display_data",
          "data": {
            "text/plain": [
              "<Figure size 640x480 with 1 Axes>"
            ],
            "image/png": "[encoded data removed]"
          },
          "metadata": {}
        }
      ],
      "source": [
        "count_passenger_per_sex = df_titanic[\"Sex\"].value_counts()\n",
        "count_passenger_per_sex_H = 0\n",
        "count_passenger_per_sex_F = 0\n",
        "\n",
        "for any_sex in count_passenger_per_sex:\n",
        "  count_passenger_per_sex_H = count_passenger_per_sex[0]\n",
        "  count_passenger_per_sex_F = count_passenger_per_sex[1]\n",
        "print(\"\\nIl y a\", count_passenger_per_sex_H, \"hommes et\",count_passenger_per_sex_F, \"femmes.\\n\")\n",
        "\n",
        "display_sex_count = count_passenger_per_sex.plot.bar(color=[\"#088EFFFF\", \"#FF01F4\"])\n",
        "\n",
        "#Cherchons le centre de chauqe Bar et affichons la valeur de chaque Bar (Sexe)\n",
        "for any_bar in display_sex_count.patches:\n",
        "  display_sex_count.annotate(str(any_bar.get_height()), (any_bar.get_x() + any_bar.get_width() / 2, any_bar.get_height()))\n",
        "\n",
        "plt.title(\"Distribution des passagers par Sexe\")\n",
        "plt.xlabel(\"Sex des passagers\")\n",
        "plt.ylabel(\"Nombre de Passager\")\n",
        "\n",
        "plt.show()"
      ]
    },
    {
      "cell_type": "markdown",
      "metadata": {
        "id": "iD0nIusuFlnH"
      },
      "source": [
        "### *5.\tCréez un diagramme à barres (bar chart) empilées pour visualiser le taux de survie par sexe. Expliquez toute différence de survie liée au sexe. [2]*"
      ]
    },
    {
      "cell_type": "code",
      "execution_count": 10,
      "metadata": {
        "colab": {
          "base_uri": "https://localhost:8080/",
          "height": 697
        },
        "id": "y2tlXNH4_rnK",
        "outputId": "19aed061-ee72-4e0b-9841-9c6afad79f39"
      },
      "outputs": [
        {
          "output_type": "stream",
          "name": "stdout",
          "text": [
            "\n",
            "1.Taux de survie par sexe : \n",
            " - Chez les Hommes : 18.89 %\n",
            " - Chez les Femmes : 74.2 %\n",
            "\n",
            "2. Taux de décès par sexe : \n",
            " - Chez les Hommes : 81.11 %\n",
            " - Chez les Femmes : 25.8 %\n",
            "\n",
            "Ce diagramme à barres empilées nous permet de visualiser le taux de survie entre les Homme et les Femme passagers du Titanic.\n",
            "Les Hommes  étaient plus nombreux que les Femmes, mais le taux de survie des Femmes était plus élevé que le taux de survie des Hommes.\n"
          ]
        },
        {
          "output_type": "display_data",
          "data": {
            "text/plain": [
              "<Figure size 640x480 with 1 Axes>"
            ],
            "image/png": "[encoded data removed]"
          },
          "metadata": {}
        }
      ],
      "source": [
        "suvived_by_sex = df_titanic.groupby([\"Sex\", \"Survived\"]).size() # Grouper les passagers par sexe et leur survécu ou non survécu\n",
        "suvived_by_sex = suvived_by_sex.unstack() # Conversion de suvived_by_sex en un DataFrame\n",
        "\n",
        "# Ajout de la colonne pour compter le Total par groupe\n",
        "suvived_by_sex[\"Total_by_group\"] = suvived_by_sex.sum(axis=1)\n",
        "\n",
        "# suvived_by_sex\n",
        "Survival_Rate_by_sex = round((suvived_by_sex[1] / suvived_by_sex[\"Total_by_group\"])*100, 2)\n",
        "No_Survival_Rate_by_sex = round((suvived_by_sex[0] / suvived_by_sex[\"Total_by_group\"])*100,2)\n",
        "print(\"\\n1.Taux de survie par sexe : \\n - Chez les Hommes :\",Survival_Rate_by_sex[1],\"%\\n - Chez les Femmes :\",Survival_Rate_by_sex[0],\"%\\n\")\n",
        "print(\"2. Taux de décès par sexe : \\n - Chez les Hommes :\",No_Survival_Rate_by_sex[1],\"%\\n - Chez les Femmes :\",No_Survival_Rate_by_sex[0],\"%\\n\")\n",
        "\n",
        "#Création du diagramme à barres empilées ou stacked bar chart\n",
        "suvived_by_sex[[0, 1]].plot(kind=\"bar\", stacked=True, color=[\"red\", \"green\"])\n",
        "plt.legend([\"Non survécu\", \"Survécu\"])\n",
        "\n",
        "plt.title(\"Taux de survie par sexe\")\n",
        "plt.xlabel(\"Sexe\")\n",
        "plt.ylabel(\"Nombre de passagers\")\n",
        "\n",
        "print(\"Ce diagramme à barres empilées nous permet de visualiser le taux de survie entre les Homme et les Femme passagers du Titanic.\")\n",
        "print(\"Les Hommes  étaient plus nombreux que les Femmes, mais le taux de survie des Femmes était plus élevé que le taux de survie des Hommes.\")\n",
        "plt.show()"
      ]
    },
    {
      "cell_type": "markdown",
      "metadata": {
        "id": "4SCUMLxBcOwz"
      },
      "source": [
        "### *6.\tCréez un graphique de comptage (diagramme à barres) pour montrer le nombre de passagers qui ont embarqué à chaque endroit (S, C, Q). Que remarquez-vous à propos des points d’embarquement? [2]*"
      ]
    },
    {
      "cell_type": "code",
      "execution_count": 11,
      "metadata": {
        "colab": {
          "base_uri": "https://localhost:8080/",
          "height": 608
        },
        "id": "H7vB279xNjHK",
        "outputId": "9daaed8e-7448-48ca-8ee7-691ff69eaae2"
      },
      "outputs": [
        {
          "output_type": "stream",
          "name": "stdout",
          "text": [
            "\n",
            "Ce diagramme à barres empilées nous permet de visualiser le nombre de passagers par port d'embarquement.\n",
            "\n",
            "S est le point d'embarquement avec le nombre le plus élevé de passagers.\n",
            "Q est le point d'embarquement avec le nombre le plus faible de passagers.\n",
            " C est le point d'embarquement avec le nombre le moins élevé de passagers.\n",
            "\n",
            "\n"
          ]
        },
        {
          "output_type": "display_data",
          "data": {
            "text/plain": [
              "<Figure size 640x480 with 1 Axes>"
            ],
            "image/png": "[encoded data removed]"
          },
          "metadata": {}
        }
      ],
      "source": [
        "count_embarked = df_titanic[\"Embarked\"].value_counts()\n",
        "\n",
        "count_embarked.plot.bar(color=[\"green\", \"red\", \"yellow\"])\n",
        "plt.title(\"Distribution des passagers par port d\\\"embarquement\")\n",
        "plt.xlabel(\"Endroit d\\\"embarquement (S, C, Q)\")\n",
        "plt.ylabel(\"Nombre de Passager\")\n",
        "\n",
        "print(\"\\nCe diagramme à barres empilées nous permet de visualiser le nombre de passagers par port d'embarquement.\\n\")\n",
        "print(\"S est le point d'embarquement avec le nombre le plus élevé de passagers.\\nQ est le point d'embarquement avec le nombre le plus faible de passagers.\\n C est le point d'embarquement avec le nombre le moins élevé de passagers.\\n\\n\")\n",
        "plt.show()"
      ]
    },
    {
      "cell_type": "markdown",
      "metadata": {
        "id": "UfVletcbTJmI"
      },
      "source": [
        "###*7.Créez un diagramme en boîte(box plot)pour visualiser la distribution des tailles des familles parmi les passagers.[1]*"
      ]
    },
    {
      "cell_type": "code",
      "execution_count": 12,
      "metadata": {
        "colab": {
          "base_uri": "https://localhost:8080/",
          "height": 472
        },
        "id": "DbyDOW1lPL1g",
        "outputId": "2aae5c68-cac9-4cd2-bbb0-c7c76f0960d4"
      },
      "outputs": [
        {
          "output_type": "display_data",
          "data": {
            "text/plain": [
              "<Figure size 640x480 with 1 Axes>"
            ],
            "image/png": "[encoded data removed]"
          },
          "metadata": {}
        }
      ],
      "source": [
        "#sns.boxplot(data = df_titanic, x = \"Parch\")\n",
        "sns.boxplot(data = df_titanic, x = \"Parch\", y = \"PassengerId\")\n",
        "plt.title(\"Distribution des tailles des familles parmi les passagers\")\n",
        "plt.xlabel(\"Nombre de parents\")\n",
        "plt.ylabel(\"Nombre de Passager\")\n",
        "plt.show()"
      ]
    },
    {
      "cell_type": "markdown",
      "metadata": {
        "id": "bceQrrLFVijl"
      },
      "source": [
        "# Question 2 : Analyse des sentiments [25 points]\n",
        "Jeu de données : Corona_NLP.csv"
      ]
    },
    {
      "cell_type": "markdown",
      "metadata": {
        "id": "gM-5wFlBVyMf"
      },
      "source": [
        "## Partie 1 : Chargement des données [2 points]"
      ]
    },
    {
      "cell_type": "markdown",
      "metadata": {
        "id": "Nj-nOhxXV3jr"
      },
      "source": [
        "### *1. Chargez le jeu de données Corona_NLP.csv [1]*\n"
      ]
    },
    {
      "cell_type": "code",
      "execution_count": 13,
      "metadata": {
        "id": "yn01TaY0WAyi"
      },
      "outputs": [],
      "source": [
        "# Je mets dans une variable le lien d\"acces au fichier Google qui comporte mon model de données au format CSV\n",
        "corona_model_file = \"https://docs.google.com/spreadsheets/d/1ZloRrlJ3DV_QrpAUPm2uG4_yXcigH4YkSlnDnQwYElk/export?format=csv\"\n",
        "\n",
        "# Je Charge le fichier CSV dans un DataFrame df\n",
        "df_corona = pd.read_csv(corona_model_file)"
      ]
    },
    {
      "cell_type": "markdown",
      "metadata": {
        "id": "Y2hm3TngV9h4"
      },
      "source": [
        "### *2. Affichez les 10 dernières lignes du cadre de données [1].*"
      ]
    },
    {
      "cell_type": "code",
      "execution_count": 14,
      "metadata": {
        "colab": {
          "base_uri": "https://localhost:8080/",
          "height": 363
        },
        "id": "6mfRom7jVoJx",
        "outputId": "a4b34944-ff96-46c5-e959-f0ee547b2aa9"
      },
      "outputs": [
        {
          "output_type": "execute_result",
          "data": {
            "text/plain": [
              "       UserName ScreenName             Location     TweetAt  \\\n",
              "44948    3789.0      48741             Pakistan  16-03-2020   \n",
              "44949    3790.0      48742      California, USA  16-03-2020   \n",
              "44950    3791.0      48743     Cincinnati, Ohio  16-03-2020   \n",
              "44951    3792.0      48744      Washington D.C.  16-03-2020   \n",
              "44952    3793.0      48745      Washington D.C.  16-03-2020   \n",
              "44953    3794.0      48746            Israel ??  16-03-2020   \n",
              "44954    3795.0      48747       Farmington, NM  16-03-2020   \n",
              "44955    3796.0      48748        Haverford, PA  16-03-2020   \n",
              "44956    3797.0      48749                  NaN  16-03-2020   \n",
              "44957    3798.0      48750  Arlington, Virginia  16-03-2020   \n",
              "\n",
              "                                           OriginalTweet           Sentiment  \n",
              "44948  You never eaten the pigs cat dog or food from ...             Neutral  \n",
              "44949  @calebmealer @thebradfordfile @realDonaldTrump...  Extremely Positive  \n",
              "44950  Even though the Law Library is closed, ALL sub...            Positive  \n",
              "44951  With Gov Hogan's announcement that all bars, r...  Extremely Negative  \n",
              "44952  @RicePolitics @MDCounties Craig, will you call...            Negative  \n",
              "44953  Meanwhile In A Supermarket in Israel -- People...            Positive  \n",
              "44954  Did you panic buy a lot of non-perishable item...            Negative  \n",
              "44955  Asst Prof of Economics @cconces was on @NBCPhi...             Neutral  \n",
              "44956  Gov need to do somethings instead of biar je r...  Extremely Negative  \n",
              "44957  I and @ForestandPaper members are committed to...  Extremely Positive  "
            ],
            "text/html": [
              "\n",
              "  <div id=\"df-2224c645-f13c-432a-9375-a1f791f2a713\" class=\"colab-df-container\">\n",
              "    <div>\n",
              "<style scoped>\n",
              "    .dataframe tbody tr th:only-of-type {\n",
              "        vertical-align: middle;\n",
              "    }\n",
              "\n",
              "    .dataframe tbody tr th {\n",
              "        vertical-align: top;\n",
              "    }\n",
              "\n",
              "    .dataframe thead th {\n",
              "        text-align: right;\n",
              "    }\n",
              "</style>\n",
              "<table border=\"1\" class=\"dataframe\">\n",
              "  <thead>\n",
              "    <tr style=\"text-align: right;\">\n",
              "      <th></th>\n",
              "      <th>UserName</th>\n",
              "      <th>ScreenName</th>\n",
              "      <th>Location</th>\n",
              "      <th>TweetAt</th>\n",
              "      <th>OriginalTweet</th>\n",
              "      <th>Sentiment</th>\n",
              "    </tr>\n",
              "  </thead>\n",
              "  <tbody>\n",
              "    <tr>\n",
              "      <th>44948</th>\n",
              "      <td>3789.0</td>\n",
              "      <td>48741</td>\n",
              "      <td>Pakistan</td>\n",
              "      <td>16-03-2020</td>\n",
              "      <td>You never eaten the pigs cat dog or food from ...</td>\n",
              "      <td>Neutral</td>\n",
              "    </tr>\n",
              "    <tr>\n",
              "      <th>44949</th>\n",
              "      <td>3790.0</td>\n",
              "      <td>48742</td>\n",
              "      <td>California, USA</td>\n",
              "      <td>16-03-2020</td>\n",
              "      <td>@calebmealer @thebradfordfile @realDonaldTrump...</td>\n",
              "      <td>Extremely Positive</td>\n",
              "    </tr>\n",
              "    <tr>\n",
              "      <th>44950</th>\n",
              "      <td>3791.0</td>\n",
              "      <td>48743</td>\n",
              "      <td>Cincinnati, Ohio</td>\n",
              "      <td>16-03-2020</td>\n",
              "      <td>Even though the Law Library is closed, ALL sub...</td>\n",
              "      <td>Positive</td>\n",
              "    </tr>\n",
              "    <tr>\n",
              "      <th>44951</th>\n",
              "      <td>3792.0</td>\n",
              "      <td>48744</td>\n",
              "      <td>Washington D.C.</td>\n",
              "      <td>16-03-2020</td>\n",
              "      <td>With Gov Hogan's announcement that all bars, r...</td>\n",
              "      <td>Extremely Negative</td>\n",
              "    </tr>\n",
              "    <tr>\n",
              "      <th>44952</th>\n",
              "      <td>3793.0</td>\n",
              "      <td>48745</td>\n",
              "      <td>Washington D.C.</td>\n",
              "      <td>16-03-2020</td>\n",
              "      <td>@RicePolitics @MDCounties Craig, will you call...</td>\n",
              "      <td>Negative</td>\n",
              "    </tr>\n",
              "    <tr>\n",
              "      <th>44953</th>\n",
              "      <td>3794.0</td>\n",
              "      <td>48746</td>\n",
              "      <td>Israel ??</td>\n",
              "      <td>16-03-2020</td>\n",
              "      <td>Meanwhile In A Supermarket in Israel -- People...</td>\n",
              "      <td>Positive</td>\n",
              "    </tr>\n",
              "    <tr>\n",
              "      <th>44954</th>\n",
              "      <td>3795.0</td>\n",
              "      <td>48747</td>\n",
              "      <td>Farmington, NM</td>\n",
              "      <td>16-03-2020</td>\n",
              "      <td>Did you panic buy a lot of non-perishable item...</td>\n",
              "      <td>Negative</td>\n",
              "    </tr>\n",
              "    <tr>\n",
              "      <th>44955</th>\n",
              "      <td>3796.0</td>\n",
              "      <td>48748</td>\n",
              "      <td>Haverford, PA</td>\n",
              "      <td>16-03-2020</td>\n",
              "      <td>Asst Prof of Economics @cconces was on @NBCPhi...</td>\n",
              "      <td>Neutral</td>\n",
              "    </tr>\n",
              "    <tr>\n",
              "      <th>44956</th>\n",
              "      <td>3797.0</td>\n",
              "      <td>48749</td>\n",
              "      <td>NaN</td>\n",
              "      <td>16-03-2020</td>\n",
              "      <td>Gov need to do somethings instead of biar je r...</td>\n",
              "      <td>Extremely Negative</td>\n",
              "    </tr>\n",
              "    <tr>\n",
              "      <th>44957</th>\n",
              "      <td>3798.0</td>\n",
              "      <td>48750</td>\n",
              "      <td>Arlington, Virginia</td>\n",
              "      <td>16-03-2020</td>\n",
              "      <td>I and @ForestandPaper members are committed to...</td>\n",
              "      <td>Extremely Positive</td>\n",
              "    </tr>\n",
              "  </tbody>\n",
              "</table>\n",
              "</div>\n",
              "    <div class=\"colab-df-buttons\">\n",
              "\n",
              "  <div class=\"colab-df-container\">\n",
              "    <button class=\"colab-df-convert\" onclick=\"convertToInteractive('df-2224c645-f13c-432a-9375-a1f791f2a713')\"\n",
              "            title=\"Convert this dataframe to an interactive table.\"\n",
              "            style=\"display:none;\">\n",
              "\n",
              "  <svg xmlns=\"http://www.w3.org/2000/svg\" height=\"24px\" viewBox=\"0 -960 960 960\">\n",
              "    <path d=\"M120-120v-720h720v720H120Zm60-500h600v-160H180v160Zm220 220h160v-160H400v160Zm0 220h160v-160H400v160ZM180-400h160v-160H180v160Zm440 0h160v-160H620v160ZM180-180h160v-160H180v160Zm440 0h160v-160H620v160Z\"/>\n",
              "  </svg>\n",
              "    </button>\n",
              "\n",
              "  <style>\n",
              "    .colab-df-container {\n",
              "      display:flex;\n",
              "      gap: 12px;\n",
              "    }\n",
              "\n",
              "    .colab-df-convert {\n",
              "      background-color: #E8F0FE;\n",
              "      border: none;\n",
              "      border-radius: 50%;\n",
              "      cursor: pointer;\n",
              "      display: none;\n",
              "      fill: #1967D2;\n",
              "      height: 32px;\n",
              "      padding: 0 0 0 0;\n",
              "      width: 32px;\n",
              "    }\n",
              "\n",
              "    .colab-df-convert:hover {\n",
              "      background-color: #E2EBFA;\n",
              "      box-shadow: 0px 1px 2px rgba(60, 64, 67, 0.3), 0px 1px 3px 1px rgba(60, 64, 67, 0.15);\n",
              "      fill: #174EA6;\n",
              "    }\n",
              "\n",
              "    .colab-df-buttons div {\n",
              "      margin-bottom: 4px;\n",
              "    }\n",
              "\n",
              "    [theme=dark] .colab-df-convert {\n",
              "      background-color: #3B4455;\n",
              "      fill: #D2E3FC;\n",
              "    }\n",
              "\n",
              "    [theme=dark] .colab-df-convert:hover {\n",
              "      background-color: #434B5C;\n",
              "      box-shadow: 0px 1px 3px 1px rgba(0, 0, 0, 0.15);\n",
              "      filter: drop-shadow(0px 1px 2px rgba(0, 0, 0, 0.3));\n",
              "      fill: #FFFFFF;\n",
              "    }\n",
              "  </style>\n",
              "\n",
              "    <script>\n",
              "      const buttonEl =\n",
              "        document.querySelector('#df-2224c645-f13c-432a-9375-a1f791f2a713 button.colab-df-convert');\n",
              "      buttonEl.style.display =\n",
              "        google.colab.kernel.accessAllowed ? 'block' : 'none';\n",
              "\n",
              "      async function convertToInteractive(key) {\n",
              "        const element = document.querySelector('#df-2224c645-f13c-432a-9375-a1f791f2a713');\n",
              "        const dataTable =\n",
              "          await google.colab.kernel.invokeFunction('convertToInteractive',\n",
              "                                                    [key], {});\n",
              "        if (!dataTable) return;\n",
              "\n",
              "        const docLinkHtml = 'Like what you see? Visit the ' +\n",
              "          '<a target=\"_blank\" href=https://colab.research.google.com/notebooks/data_table.ipynb>data table notebook</a>'\n",
              "          + ' to learn more about interactive tables.';\n",
              "        element.innerHTML = '';\n",
              "        dataTable['output_type'] = 'display_data';\n",
              "        await google.colab.output.renderOutput(dataTable, element);\n",
              "        const docLink = document.createElement('div');\n",
              "        docLink.innerHTML = docLinkHtml;\n",
              "        element.appendChild(docLink);\n",
              "      }\n",
              "    </script>\n",
              "  </div>\n",
              "\n",
              "\n",
              "<div id=\"df-d48b9d67-353c-4056-b59a-4fa8adfc7eee\">\n",
              "  <button class=\"colab-df-quickchart\" onclick=\"quickchart('df-d48b9d67-353c-4056-b59a-4fa8adfc7eee')\"\n",
              "            title=\"Suggest charts.\"\n",
              "            style=\"display:none;\">\n",
              "\n",
              "<svg xmlns=\"http://www.w3.org/2000/svg\" height=\"24px\"viewBox=\"0 0 24 24\"\n",
              "     width=\"24px\">\n",
              "    <g>\n",
              "        <path d=\"M19 3H5c-1.1 0-2 .9-2 2v14c0 1.1.9 2 2 2h14c1.1 0 2-.9 2-2V5c0-1.1-.9-2-2-2zM9 17H7v-7h2v7zm4 0h-2V7h2v10zm4 0h-2v-4h2v4z\"/>\n",
              "    </g>\n",
              "</svg>\n",
              "  </button>\n",
              "\n",
              "<style>\n",
              "  .colab-df-quickchart {\n",
              "      --bg-color: #E8F0FE;\n",
              "      --fill-color: #1967D2;\n",
              "      --hover-bg-color: #E2EBFA;\n",
              "      --hover-fill-color: #174EA6;\n",
              "      --disabled-fill-color: #AAA;\n",
              "      --disabled-bg-color: #DDD;\n",
              "  }\n",
              "\n",
              "  [theme=dark] .colab-df-quickchart {\n",
              "      --bg-color: #3B4455;\n",
              "      --fill-color: #D2E3FC;\n",
              "      --hover-bg-color: #434B5C;\n",
              "      --hover-fill-color: #FFFFFF;\n",
              "      --disabled-bg-color: #3B4455;\n",
              "      --disabled-fill-color: #666;\n",
              "  }\n",
              "\n",
              "  .colab-df-quickchart {\n",
              "    background-color: var(--bg-color);\n",
              "    border: none;\n",
              "    border-radius: 50%;\n",
              "    cursor: pointer;\n",
              "    display: none;\n",
              "    fill: var(--fill-color);\n",
              "    height: 32px;\n",
              "    padding: 0;\n",
              "    width: 32px;\n",
              "  }\n",
              "\n",
              "  .colab-df-quickchart:hover {\n",
              "    background-color: var(--hover-bg-color);\n",
              "    box-shadow: 0 1px 2px rgba(60, 64, 67, 0.3), 0 1px 3px 1px rgba(60, 64, 67, 0.15);\n",
              "    fill: var(--button-hover-fill-color);\n",
              "  }\n",
              "\n",
              "  .colab-df-quickchart-complete:disabled,\n",
              "  .colab-df-quickchart-complete:disabled:hover {\n",
              "    background-color: var(--disabled-bg-color);\n",
              "    fill: var(--disabled-fill-color);\n",
              "    box-shadow: none;\n",
              "  }\n",
              "\n",
              "  .colab-df-spinner {\n",
              "    border: 2px solid var(--fill-color);\n",
              "    border-color: transparent;\n",
              "    border-bottom-color: var(--fill-color);\n",
              "    animation:\n",
              "      spin 1s steps(1) infinite;\n",
              "  }\n",
              "\n",
              "  @keyframes spin {\n",
              "    0% {\n",
              "      border-color: transparent;\n",
              "      border-bottom-color: var(--fill-color);\n",
              "      border-left-color: var(--fill-color);\n",
              "    }\n",
              "    20% {\n",
              "      border-color: transparent;\n",
              "      border-left-color: var(--fill-color);\n",
              "      border-top-color: var(--fill-color);\n",
              "    }\n",
              "    30% {\n",
              "      border-color: transparent;\n",
              "      border-left-color: var(--fill-color);\n",
              "      border-top-color: var(--fill-color);\n",
              "      border-right-color: var(--fill-color);\n",
              "    }\n",
              "    40% {\n",
              "      border-color: transparent;\n",
              "      border-right-color: var(--fill-color);\n",
              "      border-top-color: var(--fill-color);\n",
              "    }\n",
              "    60% {\n",
              "      border-color: transparent;\n",
              "      border-right-color: var(--fill-color);\n",
              "    }\n",
              "    80% {\n",
              "      border-color: transparent;\n",
              "      border-right-color: var(--fill-color);\n",
              "      border-bottom-color: var(--fill-color);\n",
              "    }\n",
              "    90% {\n",
              "      border-color: transparent;\n",
              "      border-bottom-color: var(--fill-color);\n",
              "    }\n",
              "  }\n",
              "</style>\n",
              "\n",
              "  <script>\n",
              "    async function quickchart(key) {\n",
              "      const quickchartButtonEl =\n",
              "        document.querySelector('#' + key + ' button');\n",
              "      quickchartButtonEl.disabled = true;  // To prevent multiple clicks.\n",
              "      quickchartButtonEl.classList.add('colab-df-spinner');\n",
              "      try {\n",
              "        const charts = await google.colab.kernel.invokeFunction(\n",
              "            'suggestCharts', [key], {});\n",
              "      } catch (error) {\n",
              "        console.error('Error during call to suggestCharts:', error);\n",
              "      }\n",
              "      quickchartButtonEl.classList.remove('colab-df-spinner');\n",
              "      quickchartButtonEl.classList.add('colab-df-quickchart-complete');\n",
              "    }\n",
              "    (() => {\n",
              "      let quickchartButtonEl =\n",
              "        document.querySelector('#df-d48b9d67-353c-4056-b59a-4fa8adfc7eee button');\n",
              "      quickchartButtonEl.style.display =\n",
              "        google.colab.kernel.accessAllowed ? 'block' : 'none';\n",
              "    })();\n",
              "  </script>\n",
              "</div>\n",
              "    </div>\n",
              "  </div>\n"
            ]
          },
          "metadata": {},
          "execution_count": 14
        }
      ],
      "source": [
        "last_10_df_corona = df_corona.tail(10)\n",
        "# print(last_10_df_corona)\n",
        "last_10_df_corona"
      ]
    },
    {
      "cell_type": "markdown",
      "metadata": {
        "id": "BwTMjhI5X9VK"
      },
      "source": [
        "## Partie 2 : Manipulation et visualisations [8 points]\n",
        "Les attributs indépendants qui transmettent l’information sont :\n",
        "\n",
        "*   Location\n",
        "*   Time (TweetedAt)\n",
        "*   Text (OriginalTweet)\n",
        "\n",
        "Il convient de noter que même si nous n’utiliserons pas les colonnes TweetedAt et Location dans notre analyse, nous effectuerons tout de même une petite analyse exploratoire des données (AED) sur ces colonnes.\n",
        "\n"
      ]
    },
    {
      "cell_type": "markdown",
      "metadata": {
        "id": "A8oVPR6AYMdB"
      },
      "source": [
        "### *1. Vérifie-s’il y a des lignes en double. Si c’est le cas, supprimez les doublons. [1]*\n"
      ]
    },
    {
      "cell_type": "code",
      "execution_count": 15,
      "metadata": {
        "colab": {
          "base_uri": "https://localhost:8080/"
        },
        "id": "xBntBD-fa3xE",
        "outputId": "640efdad-5acb-4a0f-b183-f89ef2238fa5"
      },
      "outputs": [
        {
          "output_type": "stream",
          "name": "stdout",
          "text": [
            "Il y a 1 doublon\n",
            "Nombre de lignes en double après suppression :  0\n"
          ]
        }
      ],
      "source": [
        "duplicat_line = df_corona.duplicated() # Vérifier les lignes en double\n",
        "print(\"Il y a\",duplicat_line.sum(),\"doublon\")\n",
        "\n",
        "df_corona = df_corona.drop_duplicates() # On supprime les doublons\n",
        "\n",
        "duplicat_line_after_suppr = df_corona.duplicated() # Vérifions à nouveau s\"il y a des lignes en doublon après suppression\n",
        "print(\"Nombre de lignes en double après suppression : \", duplicat_line_after_suppr.sum())\n"
      ]
    },
    {
      "cell_type": "markdown",
      "metadata": {
        "id": "BBXXg2doccW5"
      },
      "source": [
        "### 2. Dans la colonne Emplacement,"
      ]
    },
    {
      "cell_type": "markdown",
      "metadata": {
        "id": "WAOHHSuHc0Ve"
      },
      "source": [
        "#### 1. Trouvez les valeurs uniques et leurs fréquences correspondantes (nombre de fois qu’elles apparaissent) [1]"
      ]
    },
    {
      "cell_type": "code",
      "execution_count": 16,
      "metadata": {
        "colab": {
          "base_uri": "https://localhost:8080/"
        },
        "id": "2jCWuLQrdNVG",
        "outputId": "dfd55057-91a2-437c-c1c9-63aba39b53a0"
      },
      "outputs": [
        {
          "output_type": "stream",
          "name": "stdout",
          "text": [
            "Le nombre de valeur unique dans la colonne 'Location' est: 12881\n"
          ]
        }
      ],
      "source": [
        "count_unique_location = df_corona[\"Location\"].nunique() # Comptons les valeurs uniques dans la colonne \"Location\"\n",
        "print(\"Le nombre de valeur unique dans la colonne 'Location' est:\", count_unique_location)"
      ]
    },
    {
      "cell_type": "markdown",
      "metadata": {
        "id": "1EyBPOfzc7U_"
      },
      "source": [
        "#### 2. Triez les valeurs par ordre décroissant. [1]\n",
        "\n"
      ]
    },
    {
      "cell_type": "code",
      "execution_count": 17,
      "metadata": {
        "colab": {
          "base_uri": "https://localhost:8080/"
        },
        "id": "gKAaZXmFdN1w",
        "outputId": "dbb06c9c-600f-4c08-b4d0-b0fa8787fc74"
      },
      "outputs": [
        {
          "output_type": "stream",
          "name": "stdout",
          "text": [
            "United States      605\n",
            "London             581\n",
            "London, England    568\n",
            "New York, NY       429\n",
            "Washington, DC     411\n",
            "                  ... \n",
            "(D)MV                1\n",
            "The Wild             1\n",
            "Central Asia         1\n",
            "Sabah, Borneo        1\n",
            "Haverford, PA        1\n",
            "Name: Location, Length: 12881, dtype: int64\n"
          ]
        }
      ],
      "source": [
        "desc_location = df_corona[\"Location\"].value_counts().sort_values(ascending=False) # Trions nos valeurs uniques par ordre décroissant\n",
        "print(desc_location)"
      ]
    },
    {
      "cell_type": "markdown",
      "metadata": {
        "id": "Xq9AzTc6dDrV"
      },
      "source": [
        "#### 3. À l’aide d’un diagramme à barres, visualisez vos résultats pour les 20 premiers emplacements. [1]"
      ]
    },
    {
      "cell_type": "code",
      "execution_count": 18,
      "metadata": {
        "colab": {
          "base_uri": "https://localhost:8080/",
          "height": 295
        },
        "id": "5N-96Vynczfd",
        "outputId": "e06bb5f7-b0b5-4e57-f0a9-93524b54b690"
      },
      "outputs": [
        {
          "output_type": "display_data",
          "data": {
            "text/plain": [
              "<Figure size 4500x600 with 1 Axes>"
            ],
            "image/png": "[encoded data removed]"
          },
          "metadata": {}
        }
      ],
      "source": [
        "top_20_location = desc_location.head(20)\n",
        "# print(top_20_location)\n",
        "\n",
        "# top20 = df_corona[\"Location\"][:20]\n",
        "# print(top20)\n",
        "plt.figure(figsize=(45, 6))\n",
        "plt.bar(top_20_location.index, top_20_location.values)\n",
        "plt.title(\"Les 20 premiers emplacements\")\n",
        "plt.xlabel(\"Emplacement\")\n",
        "plt.show()"
      ]
    },
    {
      "cell_type": "markdown",
      "metadata": {
        "id": "t0zTf325iNPX"
      },
      "source": [
        "### 3. Vous constaterez que le sentiment peut prendre 5 valeurs : \"Extremely Negative\", \"Negative\", \"Neutral\", \"Positive\", \"Extremely Positive\". À l’aide d’une palette de couleurs et d’un type de graphique appropriés, visualisez la répartition des sentiments. [2]"
      ]
    },
    {
      "cell_type": "code",
      "execution_count": 19,
      "metadata": {
        "colab": {
          "base_uri": "https://localhost:8080/",
          "height": 429
        },
        "id": "ITdtm4fziSF3",
        "outputId": "d3c363cc-80e0-40f5-d233-dff7eb337158"
      },
      "outputs": [
        {
          "output_type": "display_data",
          "data": {
            "text/plain": [
              "<Figure size 640x480 with 1 Axes>"
            ],
            "image/png": "[encoded data removed]"
          },
          "metadata": {}
        }
      ],
      "source": [
        "count_sentiments = df_corona[\"Sentiment\"].value_counts() # Pour commencer, je Compte le nombre de chaque sentiment\n",
        "\n",
        "colors = sns.color_palette(\"pastel\") # Utilisons une palette de couleurs adaptée aux sentiments\n",
        "\n",
        "plt.pie(count_sentiments, labels=count_sentiments.index, colors=colors, autopct=\"%1.1f%%\", explode = [0.1, 0, 0, 0.1, 0]) # Création du diagramme circulaire (camembert)\n",
        "\n",
        "plt.title(\"Graphique répartition des sentiments\")\n",
        "plt.show()"
      ]
    },
    {
      "cell_type": "markdown",
      "metadata": {
        "id": "2UhmWIbIiSe7"
      },
      "source": [
        "### 4. Changez les étiquettes d’une partie des données, en combinant \"Extremely Negative\" and \"Negative\" en “Negative” et \"Positive\" et \"Extremely Positive\" en “Positive”. [2]\n",
        "\n"
      ]
    },
    {
      "cell_type": "code",
      "execution_count": 20,
      "metadata": {
        "colab": {
          "base_uri": "https://localhost:8080/",
          "height": 429
        },
        "id": "vDBIy0Cxm6mq",
        "outputId": "7f758713-8019-4081-bab3-c70c6d9128ec"
      },
      "outputs": [
        {
          "output_type": "display_data",
          "data": {
            "text/plain": [
              "<Figure size 640x480 with 1 Axes>"
            ],
            "image/png": "[encoded data removed]"
          },
          "metadata": {}
        }
      ],
      "source": [
        "df_corona[\"Sentiment\"] = df_corona[\"Sentiment\"].replace( # Regroupons les labels\n",
        "    {\"Extremely Negative\": \"Negative\", \"Negative\": \"Negative\",\n",
        "     \"Extremely Positive\": \"Positive\", \"Positive\": \"Positive\"})\n",
        "\n",
        "sentiment_counts_after_regroup = df_corona[\"Sentiment\"].value_counts() # Compter le nombre de chaque sentiment après regroupement\n",
        "\n",
        "# Créer le diagramme circulaire (camembert)\n",
        "plt.pie(sentiment_counts_after_regroup, labels=sentiment_counts_after_regroup.index, colors=sns.color_palette(\"pastel\"), autopct=\"%1.1f%%\", startangle=140)\n",
        "plt.axis(\"equal\")  # Pour garantir que le camembert est un cercle\n",
        "plt.title(\"Répartition des sentiments après regroupement\")\n",
        "plt.show()\n"
      ]
    },
    {
      "cell_type": "markdown",
      "metadata": {
        "id": "dRyELbKvpOLd"
      },
      "source": [
        "## Partie 3 - Nettoyage [8 points]\n",
        "Effectuez les étapes de nettoyage de texte suivantes. Je vous suggère d’effectuer les sous-parties 1, 2 et 3 dans la même fonction :"
      ]
    },
    {
      "cell_type": "markdown",
      "metadata": {
        "id": "5mwN7ypRpVxP"
      },
      "source": [
        "### 1. Supprimer les hyperliens [1]\n"
      ]
    },
    {
      "cell_type": "code",
      "execution_count": 21,
      "metadata": {
        "id": "9PO_Yp_Fp7Zj"
      },
      "outputs": [],
      "source": [
        "import re"
      ]
    },
    {
      "cell_type": "code",
      "execution_count": 22,
      "metadata": {
        "colab": {
          "base_uri": "https://localhost:8080/"
        },
        "id": "nkfAxiqgqi2e",
        "outputId": "5848a081-a47a-4e6f-d344-bff4d03c5ccf"
      },
      "outputs": [
        {
          "output_type": "stream",
          "name": "stdout",
          "text": [
            "0               @MeNyrbie @Phil_Gahan @Chrisitv  and  and \n",
            "1        advice Talk to your neighbours family to excha...\n",
            "2        Coronavirus Australia: Woolworths to give elde...\n",
            "3        My food stock is not the only one which is emp...\n",
            "4        Me, ready to go at supermarket during the #COV...\n",
            "                               ...                        \n",
            "44953    Meanwhile In A Supermarket in Israel -- People...\n",
            "44954    Did you panic buy a lot of non-perishable item...\n",
            "44955    Asst Prof of Economics @cconces was on @NBCPhi...\n",
            "44956    Gov need to do somethings instead of biar je r...\n",
            "44957    I and @ForestandPaper members are committed to...\n",
            "Name: OriginalTweet, Length: 44957, dtype: object\n"
          ]
        }
      ],
      "source": [
        "def remove_hyperlinks(my_tweet):\n",
        "    if isinstance(my_tweet, str): # Vérifions si my_tweet est une chaîne de caractères\n",
        "        return re.sub(r\"http\\S+|www\\S+|https\\S+\", \"\", my_tweet, flags=re.MULTILINE) # Utilisons une expression régulière pour supprimer les URLs disponible dans my_tweet\n",
        "    else:\n",
        "        return my_tweet\n",
        "\n",
        "df_corona[\"OriginalTweet\"] = df_corona[\"OriginalTweet\"].apply(remove_hyperlinks) # Appliquons notre fonction pour supprimer les hyperliens dans la colonne \"OriginalTweet\"\n",
        "print(df_corona[\"OriginalTweet\"])"
      ]
    },
    {
      "cell_type": "markdown",
      "metadata": {
        "id": "aO4MRUkMpeDe"
      },
      "source": [
        "### 2. Supprimer les hashtags [1]"
      ]
    },
    {
      "cell_type": "code",
      "execution_count": 23,
      "metadata": {
        "colab": {
          "base_uri": "https://localhost:8080/"
        },
        "id": "Sq_rtj_bp739",
        "outputId": "42a83f23-cec3-455f-f0f4-c391a64f8057"
      },
      "outputs": [
        {
          "output_type": "stream",
          "name": "stdout",
          "text": [
            "0               @MeNyrbie @Phil_Gahan @Chrisitv  and  and \n",
            "1        advice Talk to your neighbours family to excha...\n",
            "2        Coronavirus Australia: Woolworths to give elde...\n",
            "3        My food stock is not the only one which is emp...\n",
            "4        Me, ready to go at supermarket during the  out...\n",
            "                               ...                        \n",
            "44953    Meanwhile In A Supermarket in Israel -- People...\n",
            "44954    Did you panic buy a lot of non-perishable item...\n",
            "44955    Asst Prof of Economics @cconces was on @NBCPhi...\n",
            "44956    Gov need to do somethings instead of biar je r...\n",
            "44957    I and @ForestandPaper members are committed to...\n",
            "Name: OriginalTweet, Length: 44957, dtype: object\n"
          ]
        }
      ],
      "source": [
        "df_corona[\"OriginalTweet\"] = df_corona[\"OriginalTweet\"].str.replace(r\"#\\w+\", \"\", regex=True)\n",
        "print(df_corona[\"OriginalTweet\"])"
      ]
    },
    {
      "cell_type": "markdown",
      "metadata": {
        "id": "O_UIwf3UpkvI"
      },
      "source": [
        "### 3. Remplacer \\n et \\r par un espace vide [2]"
      ]
    },
    {
      "cell_type": "code",
      "execution_count": 24,
      "metadata": {
        "colab": {
          "base_uri": "https://localhost:8080/"
        },
        "id": "jWmytkU0p8U_",
        "outputId": "06efd034-ad4b-499f-8da3-d0672dbde8e3"
      },
      "outputs": [
        {
          "output_type": "stream",
          "name": "stdout",
          "text": [
            "0               @MeNyrbie @Phil_Gahan @Chrisitv  and  and \n",
            "1        advice Talk to your neighbours family to excha...\n",
            "2        Coronavirus Australia: Woolworths to give elde...\n",
            "3        My food stock is not the only one which is emp...\n",
            "4        Me, ready to go at supermarket during the  out...\n",
            "                               ...                        \n",
            "44953    Meanwhile In A Supermarket in Israel -- People...\n",
            "44954    Did you panic buy a lot of non-perishable item...\n",
            "44955    Asst Prof of Economics @cconces was on @NBCPhi...\n",
            "44956    Gov need to do somethings instead of biar je r...\n",
            "44957    I and @ForestandPaper members are committed to...\n",
            "Name: OriginalTweet, Length: 44957, dtype: object\n"
          ]
        }
      ],
      "source": [
        "df_corona[\"OriginalTweet\"] = df_corona[\"OriginalTweet\"].str.replace(r\"[\\n\\r]\", \" \", regex=True)\n",
        "print(df_corona[\"OriginalTweet\"])"
      ]
    },
    {
      "cell_type": "markdown",
      "metadata": {
        "id": "NLb0V7pypogj"
      },
      "source": [
        "### 4. En utilisant TweetTokenizer dans nltk.tokenize, effectuer la tokenisation. Un exemple de code est fourni. Vous pouvez utiliser une autre fonction si vous le souhaitez. [1]"
      ]
    },
    {
      "cell_type": "code",
      "execution_count": 25,
      "metadata": {
        "colab": {
          "base_uri": "https://localhost:8080/"
        },
        "id": "xRdEKAhep89e",
        "outputId": "44758341-a05a-43ae-f316-b362653178f0"
      },
      "outputs": [
        {
          "output_type": "stream",
          "name": "stdout",
          "text": [
            "0 Tweet Original: @MeNyrbie @Phil_Gahan @Chrisitv  and  and \n",
            "0 Tweet Nettoyé: ['@MeNyrbie', '@Phil_Gahan', '@Chrisitv'] \n",
            "\n",
            "1 Tweet Original: advice Talk to your neighbours family to exchange phone numbers create contact list with phone numbers of neighbours schools employer chemist GP set up online shopping accounts if poss adequate supplies of regular meds but not over order\n",
            "1 Tweet Nettoyé: ['advice', 'Talk', 'neighbours', 'family', 'exchange', 'phone', 'numbers', 'create', 'contact', 'list', 'phone', 'numbers', 'neighbours', 'schools', 'employer', 'chemist', 'GP', 'set', 'online', 'shopping', 'accounts', 'poss', 'adequate', 'supplies', 'regular', 'meds', 'order'] \n",
            "\n",
            "2 Tweet Original: Coronavirus Australia: Woolworths to give elderly, disabled dedicated shopping hours amid COVID-19 outbreak \n",
            "2 Tweet Nettoyé: ['Coronavirus', 'Australia', ':', 'Woolworths', 'give', 'elderly', ',', 'disabled', 'dedicated', 'shopping', 'hours', 'amid', 'COVID', '-', '19', 'outbreak'] \n",
            "\n",
            "3 Tweet Original: My food stock is not the only one which is empty...    PLEASE, don't panic, THERE WILL BE ENOUGH FOOD FOR EVERYONE if you do not take more than you need.   Stay calm, stay safe.           \n",
            "3 Tweet Nettoyé: ['My', 'food', 'stock', 'one', 'empty', '...', 'PLEASE', ',', 'panic', ',', 'THERE', 'WILL', 'BE', 'ENOUGH', 'FOOD', 'FOR', 'EVERYONE', 'take', 'need', '.', 'Stay', 'calm', ',', 'stay', 'safe', '.'] \n",
            "\n",
            "4 Tweet Original: Me, ready to go at supermarket during the  outbreak.    Not because I'm paranoid, but because my food stock is litteraly empty. The  is a serious thing, but please, don't panic. It causes shortage...        \n",
            "4 Tweet Nettoyé: ['Me', ',', 'ready', 'go', 'supermarket', 'outbreak', '.', 'Not', \"I'm\", 'paranoid', ',', 'food', 'stock', 'litteraly', 'empty', '.', 'The', 'serious', 'thing', ',', 'please', ',', 'panic', '.', 'It', 'causes', 'shortage', '...'] \n",
            "\n"
          ]
        },
        {
          "output_type": "stream",
          "name": "stderr",
          "text": [
            "[nltk_data] Downloading package stopwords to /root/nltk_data...\n",
            "[nltk_data]   Package stopwords is already up-to-date!\n"
          ]
        }
      ],
      "source": [
        "from itertools import count\n",
        "from nltk.tree.prettyprinter import test\n",
        "import nltk\n",
        "from nltk.corpus import stopwords\n",
        "from nltk.stem import PorterStemmer\n",
        "from nltk.tokenize import TweetTokenizer\n",
        "nltk.download(\"stopwords\") #corrige les problemes et erreur de chargment de stopwords anglais\n",
        "\n",
        "def tokenizing(tweet):\n",
        "\n",
        "    stopwords_english = stopwords.words(\"english\") # Reccuperons les stopwords anglais\n",
        "    tokenizer = TweetTokenizer()  # creons un objet tokenizer\n",
        "    new_tweet = tokenizer.tokenize(tweet)  # appliquons notre tokenizer a notre tweet\n",
        "\n",
        "    clean_tweet=[] # Creons une liste vide\n",
        "\n",
        "    for word in new_tweet:  # Pour chaque mot dans notre tweet\n",
        "        if word not in stopwords_english : # On verifi Si le mot n\"est pas dans les stopwords anglais\n",
        "            clean_tweet.append(word) # Ajoutons le mot dans la liste vraie\n",
        "\n",
        "    return clean_tweet # Retourner la liste vraie\n",
        "\n",
        "#ICI, je parcours tous les tweets du DataFrame, colonne df_corona[\"OriginalTweet\"] en utilisant un itérateur et un compteur pour afficher chaque tweet non tokenizer et tokenizer.\n",
        "count_testing_tweet = 0\n",
        "for any_tweet in df_corona[\"OriginalTweet\"]:\n",
        "  orig_tweet = df_corona[\"OriginalTweet\"][count_testing_tweet]\n",
        "  cleaned_tweet = tokenizing(orig_tweet)\n",
        "  print(count_testing_tweet,\"Tweet Original: \" + orig_tweet)\n",
        "  print(count_testing_tweet,\"Tweet Nettoyé: \" + str(cleaned_tweet),\"\\n\")\n",
        "  count_testing_tweet += 1\n",
        "  if count_testing_tweet == 5:\n",
        "    break"
      ]
    },
    {
      "cell_type": "markdown",
      "metadata": {
        "id": "X7FGqLDfpshS"
      },
      "source": [
        "### 5. Dans la même fonction, supprimez les mots d’arrêt et les signes de ponctuation. [1]"
      ]
    },
    {
      "cell_type": "code",
      "execution_count": 26,
      "metadata": {
        "id": "WCag3BKTp9dW",
        "colab": {
          "base_uri": "https://localhost:8080/"
        },
        "outputId": "e58913bd-2e0e-49fb-8a67-57809aec911e"
      },
      "outputs": [
        {
          "output_type": "stream",
          "name": "stdout",
          "text": [
            "1 Tweet Original: advice Talk to your neighbours family to exchange phone numbers create contact list with phone numbers of neighbours schools employer chemist GP set up online shopping accounts if poss adequate supplies of regular meds but not over order\n",
            "1 Tweet Nettoyé: ['advice', 'Talk', 'neighbours', 'family', 'exchange', 'phone', 'numbers', 'create', 'contact', 'list', 'phone', 'numbers', 'neighbours', 'schools', 'employer', 'chemist', 'GP', 'set', 'online', 'shopping', 'accounts', 'poss', 'adequate', 'supplies', 'regular', 'meds', 'order'] \n",
            "\n",
            "2 Tweet Original: Coronavirus Australia: Woolworths to give elderly, disabled dedicated shopping hours amid COVID-19 outbreak \n",
            "2 Tweet Nettoyé: ['Coronavirus', 'Australia', 'Woolworths', 'give', 'elderly', 'disabled', 'dedicated', 'shopping', 'hours', 'amid', 'COVID', 'outbreak'] \n",
            "\n",
            "3 Tweet Original: My food stock is not the only one which is empty...    PLEASE, don't panic, THERE WILL BE ENOUGH FOOD FOR EVERYONE if you do not take more than you need.   Stay calm, stay safe.           \n",
            "3 Tweet Nettoyé: ['My', 'food', 'stock', 'one', 'empty', 'PLEASE', 'panic', 'THERE', 'WILL', 'BE', 'ENOUGH', 'FOOD', 'FOR', 'EVERYONE', 'take', 'need', 'Stay', 'calm', 'stay', 'safe'] \n",
            "\n",
            "4 Tweet Original: Me, ready to go at supermarket during the  outbreak.    Not because I'm paranoid, but because my food stock is litteraly empty. The  is a serious thing, but please, don't panic. It causes shortage...        \n",
            "4 Tweet Nettoyé: ['Me', 'ready', 'go', 'supermarket', 'outbreak', 'Not', 'paranoid', 'food', 'stock', 'litteraly', 'empty', 'The', 'serious', 'thing', 'please', 'panic', 'It', 'causes', 'shortage'] \n",
            "\n",
            "5 Tweet Original: As news of the regionÂs first confirmed COVID-19 case came out of Sullivan County last week, people flocked to area stores to purchase cleaning supplies, hand sanitizer, food, toilet paper and other goods, @Tim_Dodson reports \n",
            "5 Tweet Nettoyé: ['As', 'news', 'regionÂs', 'first', 'confirmed', 'COVID', 'case', 'came', 'Sullivan', 'County', 'last', 'week', 'people', 'flocked', 'area', 'stores', 'purchase', 'cleaning', 'supplies', 'hand', 'sanitizer', 'food', 'toilet', 'paper', 'goods', 'reports'] \n",
            "\n"
          ]
        }
      ],
      "source": [
        "import nltk\n",
        "from nltk.corpus import stopwords\n",
        "from nltk.tokenize import TweetTokenizer\n",
        "import string\n",
        "\n",
        "def tokenizing(tweet):\n",
        "    stopwords_english = stopwords.words(\"english\")\n",
        "\n",
        "    tokenizer = TweetTokenizer()\n",
        "\n",
        "    new_tweet = tokenizer.tokenize(tweet)\n",
        "\n",
        "    clean_tweet = []\n",
        "\n",
        "    for word in new_tweet:\n",
        "        if word not in stopwords_english and word.isalpha() and  word not in string.punctuation: #On vérifi Si le mot n\"est pas dans les stopwords anglais, qu\"il n\"est pas un chiffre, et n\"est pas une ponctuation\n",
        "            clean_tweet.append(word)\n",
        "\n",
        "    return clean_tweet\n",
        "\n",
        "#ICI, je parcours tous les tweets du DataFrame en utilisant un itérateur et un compteur pour afficher chaque tweet.\n",
        "count_testing_tweet = 0\n",
        "for any_tweet in df_corona[\"OriginalTweet\"]:\n",
        "  count_testing_tweet += 1\n",
        "  tweet = df_corona[\"OriginalTweet\"][count_testing_tweet]\n",
        "  cleaned_tweet = tokenizing(tweet)\n",
        "  print(count_testing_tweet,\"Tweet Original: \" + tweet)\n",
        "  print(count_testing_tweet,\"Tweet Nettoyé: \" + str(cleaned_tweet),\"\\n\")\n",
        "  if count_testing_tweet == 5:\n",
        "    break"
      ]
    },
    {
      "cell_type": "markdown",
      "metadata": {
        "id": "PpndaGkApyEA"
      },
      "source": [
        "### 6. Effectuer un stemming en utilisant PorterStemmer dans nltk.stem [1]\n",
        "\n",
        "---\n",
        "\n"
      ]
    },
    {
      "cell_type": "code",
      "execution_count": 27,
      "metadata": {
        "id": "RL7gahKup9-t",
        "colab": {
          "base_uri": "https://localhost:8080/"
        },
        "outputId": "bc7562f5-f176-45b4-c906-fb3bf5222e63"
      },
      "outputs": [
        {
          "output_type": "stream",
          "name": "stdout",
          "text": [
            "1 Stemmed Tweet: ['advic', 'talk', 'neighbour', 'famili', 'exchang', 'phone', 'number', 'creat', 'contact', 'list', 'phone', 'number', 'neighbour', 'school', 'employ', 'chemist', 'gp', 'set', 'onlin', 'shop', 'account', 'poss', 'adequ', 'suppli', 'regular', 'med', 'order'] \n",
            "\n",
            "2 Stemmed Tweet: ['coronaviru', 'australia', 'woolworth', 'give', 'elderli', 'disabl', 'dedic', 'shop', 'hour', 'amid', 'covid', 'outbreak'] \n",
            "\n",
            "3 Stemmed Tweet: ['my', 'food', 'stock', 'one', 'empti', 'pleas', 'panic', 'there', 'will', 'be', 'enough', 'food', 'for', 'everyon', 'take', 'need', 'stay', 'calm', 'stay', 'safe'] \n",
            "\n",
            "4 Stemmed Tweet: ['me', 'readi', 'go', 'supermarket', 'outbreak', 'not', 'paranoid', 'food', 'stock', 'litterali', 'empti', 'the', 'seriou', 'thing', 'pleas', 'panic', 'it', 'caus', 'shortag'] \n",
            "\n",
            "5 Stemmed Tweet: ['as', 'news', 'regionâ', 'first', 'confirm', 'covid', 'case', 'came', 'sullivan', 'counti', 'last', 'week', 'peopl', 'flock', 'area', 'store', 'purchas', 'clean', 'suppli', 'hand', 'sanit', 'food', 'toilet', 'paper', 'good', 'report'] \n",
            "\n"
          ]
        }
      ],
      "source": [
        "def stemming(words): #Fonction Pour appliquer le stemming\n",
        "    porter_stemmer = PorterStemmer() # Initialiser le stemmer Porter\n",
        "    stemmed_words = []  # Liste pour stocker les mots racines stemming\n",
        "    for word in words: # Parcourir chaque mot dans la liste words qui est le parametre donné à notre fonction stemming()\n",
        "        stemmed_word = porter_stemmer.stem(word) # Appliquer le stemming a chaque mot\n",
        "        stemmed_words.append(stemmed_word) # Ajouter le mot racine à la liste stemmed_words\n",
        "    return stemmed_words # Retourner la liste stemmed_words des mots racines\n",
        "\n",
        "count_testing_tweet = 0\n",
        "for any_tweet in df_corona[\"OriginalTweet\"]: # Parcourir chaque tweet dans la colonne \"OriginalTweet\" du DataFrame\n",
        "    count_testing_tweet += 1\n",
        "    tweet_stemming = df_corona[\"OriginalTweet\"][count_testing_tweet]\n",
        "    cleaned_tweet = tokenizing(tweet_stemming) # Nettoyer le tweet en supprimant les stopwords et la ponctuation\n",
        "    stemmed_tweet = stemming(cleaned_tweet) # Appliquer le stemming au tweet nettoyé\n",
        "    print(count_testing_tweet, \"Stemmed Tweet:\", stemmed_tweet, \"\\n\") # Afficher le-strokes du tweet et les mots racines du tweet\n",
        "    if count_testing_tweet == 5:\n",
        "        break"
      ]
    },
    {
      "cell_type": "markdown",
      "metadata": {
        "id": "vP6A2PkLp4bf"
      },
      "source": [
        "### 7. Appliquez ces fonctions à l’ensemble de données et visualisez les 5 premières lignes. [1]"
      ]
    },
    {
      "cell_type": "code",
      "source": [
        "import nltk\n",
        "from nltk.corpus import stopwords\n",
        "from nltk.tokenize import TweetTokenizer\n",
        "import string\n",
        "\n",
        "# Partie 1 : Tokenisation\n",
        "def tokenizing(tweet):\n",
        "    stopwords_english = stopwords.words(\"english\")\n",
        "    tokenizer = TweetTokenizer()\n",
        "    new_tweet = tokenizer.tokenize(tweet)\n",
        "    clean_tweet = []\n",
        "    for word in new_tweet:\n",
        "        if word not in stopwords_english and word.isalpha() and word not in string.punctuation:\n",
        "            clean_tweet.append(word)\n",
        "    return clean_tweet\n",
        "\n",
        "# Partie 2 : Stemming\n",
        "def stemming(words):\n",
        "    porter_stemmer = PorterStemmer()\n",
        "    stemmed_words = []\n",
        "    for word in words:\n",
        "        stemmed_word = porter_stemmer.stem(word)\n",
        "        stemmed_words.append(stemmed_word)\n",
        "    return stemmed_words\n",
        "\n",
        "# Parcourir les tweets, nettoyer et appliquer le stemming\n",
        "count_testing_tweet = 0\n",
        "\n",
        "for any_tweet in df_corona[\"OriginalTweet\"]:\n",
        "    count_testing_tweet += 1\n",
        "    tweet = df_corona[\"OriginalTweet\"][count_testing_tweet]\n",
        "    cleaned_tweet = tokenizing(tweet)\n",
        "    stemmed_tweet = stemming(cleaned_tweet)\n",
        "    print(count_testing_tweet,\"Tweet Original: \" + tweet)\n",
        "    print(count_testing_tweet,\"Tweet Nettoyé: \" + str(cleaned_tweet))\n",
        "    print(count_testing_tweet, \"Stemmed Tweet:\", stemmed_tweet, \"\\n\",\"_\" * len(tweet), \"\\n\")\n",
        "    if count_testing_tweet == 5:\n",
        "      break"
      ],
      "metadata": {
        "colab": {
          "base_uri": "https://localhost:8080/"
        },
        "id": "K8RWUbs4xX7n",
        "outputId": "60fe2475-6b03-4102-acf7-64935a397ac6"
      },
      "execution_count": 28,
      "outputs": [
        {
          "output_type": "stream",
          "name": "stdout",
          "text": [
            "1 Tweet Original: advice Talk to your neighbours family to exchange phone numbers create contact list with phone numbers of neighbours schools employer chemist GP set up online shopping accounts if poss adequate supplies of regular meds but not over order\n",
            "1 Tweet Nettoyé: ['advice', 'Talk', 'neighbours', 'family', 'exchange', 'phone', 'numbers', 'create', 'contact', 'list', 'phone', 'numbers', 'neighbours', 'schools', 'employer', 'chemist', 'GP', 'set', 'online', 'shopping', 'accounts', 'poss', 'adequate', 'supplies', 'regular', 'meds', 'order']\n",
            "1 Stemmed Tweet: ['advic', 'talk', 'neighbour', 'famili', 'exchang', 'phone', 'number', 'creat', 'contact', 'list', 'phone', 'number', 'neighbour', 'school', 'employ', 'chemist', 'gp', 'set', 'onlin', 'shop', 'account', 'poss', 'adequ', 'suppli', 'regular', 'med', 'order'] \n",
            " _____________________________________________________________________________________________________________________________________________________________________________________________________________________________________________ \n",
            "\n",
            "2 Tweet Original: Coronavirus Australia: Woolworths to give elderly, disabled dedicated shopping hours amid COVID-19 outbreak \n",
            "2 Tweet Nettoyé: ['Coronavirus', 'Australia', 'Woolworths', 'give', 'elderly', 'disabled', 'dedicated', 'shopping', 'hours', 'amid', 'COVID', 'outbreak']\n",
            "2 Stemmed Tweet: ['coronaviru', 'australia', 'woolworth', 'give', 'elderli', 'disabl', 'dedic', 'shop', 'hour', 'amid', 'covid', 'outbreak'] \n",
            " ____________________________________________________________________________________________________________ \n",
            "\n",
            "3 Tweet Original: My food stock is not the only one which is empty...    PLEASE, don't panic, THERE WILL BE ENOUGH FOOD FOR EVERYONE if you do not take more than you need.   Stay calm, stay safe.           \n",
            "3 Tweet Nettoyé: ['My', 'food', 'stock', 'one', 'empty', 'PLEASE', 'panic', 'THERE', 'WILL', 'BE', 'ENOUGH', 'FOOD', 'FOR', 'EVERYONE', 'take', 'need', 'Stay', 'calm', 'stay', 'safe']\n",
            "3 Stemmed Tweet: ['my', 'food', 'stock', 'one', 'empti', 'pleas', 'panic', 'there', 'will', 'be', 'enough', 'food', 'for', 'everyon', 'take', 'need', 'stay', 'calm', 'stay', 'safe'] \n",
            " ____________________________________________________________________________________________________________________________________________________________________________________________ \n",
            "\n",
            "4 Tweet Original: Me, ready to go at supermarket during the  outbreak.    Not because I'm paranoid, but because my food stock is litteraly empty. The  is a serious thing, but please, don't panic. It causes shortage...        \n",
            "4 Tweet Nettoyé: ['Me', 'ready', 'go', 'supermarket', 'outbreak', 'Not', 'paranoid', 'food', 'stock', 'litteraly', 'empty', 'The', 'serious', 'thing', 'please', 'panic', 'It', 'causes', 'shortage']\n",
            "4 Stemmed Tweet: ['me', 'readi', 'go', 'supermarket', 'outbreak', 'not', 'paranoid', 'food', 'stock', 'litterali', 'empti', 'the', 'seriou', 'thing', 'pleas', 'panic', 'it', 'caus', 'shortag'] \n",
            " _______________________________________________________________________________________________________________________________________________________________________________________________________________ \n",
            "\n",
            "5 Tweet Original: As news of the regionÂs first confirmed COVID-19 case came out of Sullivan County last week, people flocked to area stores to purchase cleaning supplies, hand sanitizer, food, toilet paper and other goods, @Tim_Dodson reports \n",
            "5 Tweet Nettoyé: ['As', 'news', 'regionÂs', 'first', 'confirmed', 'COVID', 'case', 'came', 'Sullivan', 'County', 'last', 'week', 'people', 'flocked', 'area', 'stores', 'purchase', 'cleaning', 'supplies', 'hand', 'sanitizer', 'food', 'toilet', 'paper', 'goods', 'reports']\n",
            "5 Stemmed Tweet: ['as', 'news', 'regionâ', 'first', 'confirm', 'covid', 'case', 'came', 'sullivan', 'counti', 'last', 'week', 'peopl', 'flock', 'area', 'store', 'purchas', 'clean', 'suppli', 'hand', 'sanit', 'food', 'toilet', 'paper', 'good', 'report'] \n",
            " __________________________________________________________________________________________________________________________________________________________________________________________________________________________________ \n",
            "\n"
          ]
        }
      ]
    },
    {
      "cell_type": "markdown",
      "source": [
        "## Partie 4 - Développement du modèle [7 points]"
      ],
      "metadata": {
        "id": "EC7JrjF2-2P0"
      }
    },
    {
      "cell_type": "markdown",
      "source": [
        "### 1. Créez un vecteur tf-idf et ajustez la fonction. [1]"
      ],
      "metadata": {
        "id": "E4uw9JbM_Huc"
      }
    },
    {
      "cell_type": "code",
      "source": [
        "from sklearn.feature_extraction.text import TfidfTransformer\n",
        "from sklearn.feature_extraction.text import TfidfVectorizer\n",
        "\n",
        "def calculate_tfidf(text):\n",
        "    vectorizer = TfidfVectorizer() # Initialiser le vecteur TF-IDF\n",
        "\n",
        "    tfidf_vectors = vectorizer.fit_transform([text]) # Transformer le texte en vecteur TF-IDF\n",
        "\n",
        "    features = vectorizer.get_feature_names_out() # Récupérer les mots (caractéristiques) dans l\"ordre\n",
        "\n",
        "    # Création d\"un dictionnaire pour stocker les mots et leurs scores TF-IDF\n",
        "    tfidf_dict = {}\n",
        "    for feature_index, score in zip(tfidf_vectors.indices, tfidf_vectors.data):\n",
        "        tfidf_dict[features[feature_index]] = score\n",
        "\n",
        "    return tfidf_dict\n",
        "\n",
        "# Exemple d\"utilisation de la fonction\n",
        "tfidf_result = calculate_tfidf(tweet) # Appliquer la fonction pour calculer les scores TF-IDF avec les mots presents dans la variable tweet : tweet = df_corona[\"OriginalTweet\"][count_testing_tweet]\n",
        "print(\"Nous avons les scores TF-IDF pour chaque mot dans le texte :\")\n",
        "for word, score in tfidf_result.items():\n",
        "    print(word + \": \" + str(score))"
      ],
      "metadata": {
        "colab": {
          "base_uri": "https://localhost:8080/"
        },
        "id": "7cvc9iU67h9w",
        "outputId": "0c14f838-56f0-407a-b23c-4e15af768c8b"
      },
      "execution_count": 29,
      "outputs": [
        {
          "output_type": "stream",
          "name": "stdout",
          "text": [
            "Nous avons les scores TF-IDF pour chaque mot dans le texte :\n",
            "reports: 0.15811388300841897\n",
            "tim_dodson: 0.15811388300841897\n",
            "goods: 0.15811388300841897\n",
            "other: 0.15811388300841897\n",
            "and: 0.15811388300841897\n",
            "paper: 0.15811388300841897\n",
            "toilet: 0.15811388300841897\n",
            "food: 0.15811388300841897\n",
            "sanitizer: 0.15811388300841897\n",
            "hand: 0.15811388300841897\n",
            "supplies: 0.15811388300841897\n",
            "cleaning: 0.15811388300841897\n",
            "purchase: 0.15811388300841897\n",
            "stores: 0.15811388300841897\n",
            "area: 0.15811388300841897\n",
            "to: 0.31622776601683794\n",
            "flocked: 0.15811388300841897\n",
            "people: 0.15811388300841897\n",
            "week: 0.15811388300841897\n",
            "last: 0.15811388300841897\n",
            "county: 0.15811388300841897\n",
            "sullivan: 0.15811388300841897\n",
            "out: 0.15811388300841897\n",
            "came: 0.15811388300841897\n",
            "case: 0.15811388300841897\n",
            "19: 0.15811388300841897\n",
            "covid: 0.15811388300841897\n",
            "confirmed: 0.15811388300841897\n",
            "first: 0.15811388300841897\n",
            "regionâs: 0.15811388300841897\n",
            "the: 0.15811388300841897\n",
            "of: 0.31622776601683794\n",
            "news: 0.15811388300841897\n",
            "as: 0.15811388300841897\n"
          ]
        }
      ]
    },
    {
      "cell_type": "markdown",
      "source": [
        "\n",
        "### 2. En ne conservant que les colonnes Tweet et Sentiment, divisez votre jeu de données en ensembles d’entraînement (80 %) et de test (20 %). [1]"
      ],
      "metadata": {
        "id": "e2XCM4VE_VOm"
      }
    },
    {
      "cell_type": "code",
      "source": [
        "from sklearn.model_selection import train_test_split\n",
        "\n",
        "mydata_to_train = df_corona[[\"OriginalTweet\", \"Sentiment\"]] # Sélectionnons nos colonnes \"Tweet\" et \"Sentiment\"\n",
        "\n",
        "train_data, test_data = train_test_split(mydata_to_train, test_size=0.2) # Diviser le jeu de données en ensembles d\"entraînement (80%) et de test (20%)\n",
        "\n",
        "print(\"Nb de tweets dans l'ensemble d'entraînement :\", len(train_data))\n",
        "print(\"Nb de tweets dans l'ensemble de test :\", len(test_data))"
      ],
      "metadata": {
        "colab": {
          "base_uri": "https://localhost:8080/"
        },
        "id": "N5aJGJIz_YiL",
        "outputId": "7e520250-b1c7-486c-a9be-045eb6998e43"
      },
      "execution_count": 30,
      "outputs": [
        {
          "output_type": "stream",
          "name": "stdout",
          "text": [
            "Nb de tweets dans l'ensemble d'entraînement : 35965\n",
            "Nb de tweets dans l'ensemble de test : 8992\n"
          ]
        }
      ]
    },
    {
      "cell_type": "markdown",
      "source": [
        "### 3. Construisez un modèle de régression logistique et ajustez les données. [3]"
      ],
      "metadata": {
        "id": "we2UJP-D_ZKk"
      }
    },
    {
      "cell_type": "code",
      "source": [
        "#need more time"
      ],
      "metadata": {
        "id": "PHSUVrrZ_boE"
      },
      "execution_count": 31,
      "outputs": []
    },
    {
      "cell_type": "markdown",
      "source": [
        "### 4. Quelle est la précision du modèle? [1]"
      ],
      "metadata": {
        "id": "EBmc0sdS_cHs"
      }
    },
    {
      "cell_type": "code",
      "source": [
        "#need more time"
      ],
      "metadata": {
        "id": "0yJRs5oc_fRc"
      },
      "execution_count": 32,
      "outputs": []
    },
    {
      "cell_type": "markdown",
      "source": [
        "### 5. Produisez un rapport de classification. [1]"
      ],
      "metadata": {
        "id": "DlnMt11__gA5"
      }
    },
    {
      "cell_type": "code",
      "source": [
        "#need more time"
      ],
      "metadata": {
        "id": "vG9rExrA_jqo"
      },
      "execution_count": 33,
      "outputs": []
    },
    {
      "cell_type": "markdown",
      "source": [
        "### 6. BONUS : Commentez les métriques. [0]"
      ],
      "metadata": {
        "id": "oOa5Pg5v_kRS"
      }
    },
    {
      "cell_type": "code",
      "source": [
        "#need more time"
      ],
      "metadata": {
        "id": "39oJofig_mSU"
      },
      "execution_count": 34,
      "outputs": []
    },
    {
      "cell_type": "markdown",
      "source": [
        "# Question 3 : Statistiques [10 points]\n",
        "Jeu de données : q3_data.csv 1."
      ],
      "metadata": {
        "id": "ZCtLXOqy_oqO"
      }
    },
    {
      "cell_type": "code",
      "source": [
        "# Je mets dans une variable le lien d\"acces au fichier Google qui comporte mon model de données au format CSV\n",
        "q3data_model_file = \"https://docs.google.com/spreadsheets/d/1soEvQ-7fKKuBAPYMTBlvk1cDWt9goxzgCLQcC3LUDOU/export?format=csv\"\n",
        "\n",
        "# Je Charge le fichier CSV dans un DataFrame df\n",
        "df_q3data = pd.read_csv(q3data_model_file)\n",
        "df_q3data.head()"
      ],
      "metadata": {
        "id": "h6vw3WOv_rdE",
        "colab": {
          "base_uri": "https://localhost:8080/",
          "height": 206
        },
        "outputId": "9486d17e-f3f9-4951-a1ff-737b3d96ab69"
      },
      "execution_count": 35,
      "outputs": [
        {
          "output_type": "execute_result",
          "data": {
            "text/plain": [
              "          x1         x2\n",
              "0  27.440675  58.350216\n",
              "1  35.759468  70.721069\n",
              "2  30.138169  59.607830\n",
              "3  27.244159  59.877037\n",
              "4  21.182740  36.731351"
            ],
            "text/html": [
              "\n",
              "  <div id=\"df-ae1f11e8-f24c-4244-927e-41e2aacdcb3c\" class=\"colab-df-container\">\n",
              "    <div>\n",
              "<style scoped>\n",
              "    .dataframe tbody tr th:only-of-type {\n",
              "        vertical-align: middle;\n",
              "    }\n",
              "\n",
              "    .dataframe tbody tr th {\n",
              "        vertical-align: top;\n",
              "    }\n",
              "\n",
              "    .dataframe thead th {\n",
              "        text-align: right;\n",
              "    }\n",
              "</style>\n",
              "<table border=\"1\" class=\"dataframe\">\n",
              "  <thead>\n",
              "    <tr style=\"text-align: right;\">\n",
              "      <th></th>\n",
              "      <th>x1</th>\n",
              "      <th>x2</th>\n",
              "    </tr>\n",
              "  </thead>\n",
              "  <tbody>\n",
              "    <tr>\n",
              "      <th>0</th>\n",
              "      <td>27.440675</td>\n",
              "      <td>58.350216</td>\n",
              "    </tr>\n",
              "    <tr>\n",
              "      <th>1</th>\n",
              "      <td>35.759468</td>\n",
              "      <td>70.721069</td>\n",
              "    </tr>\n",
              "    <tr>\n",
              "      <th>2</th>\n",
              "      <td>30.138169</td>\n",
              "      <td>59.607830</td>\n",
              "    </tr>\n",
              "    <tr>\n",
              "      <th>3</th>\n",
              "      <td>27.244159</td>\n",
              "      <td>59.877037</td>\n",
              "    </tr>\n",
              "    <tr>\n",
              "      <th>4</th>\n",
              "      <td>21.182740</td>\n",
              "      <td>36.731351</td>\n",
              "    </tr>\n",
              "  </tbody>\n",
              "</table>\n",
              "</div>\n",
              "    <div class=\"colab-df-buttons\">\n",
              "\n",
              "  <div class=\"colab-df-container\">\n",
              "    <button class=\"colab-df-convert\" onclick=\"convertToInteractive('df-ae1f11e8-f24c-4244-927e-41e2aacdcb3c')\"\n",
              "            title=\"Convert this dataframe to an interactive table.\"\n",
              "            style=\"display:none;\">\n",
              "\n",
              "  <svg xmlns=\"http://www.w3.org/2000/svg\" height=\"24px\" viewBox=\"0 -960 960 960\">\n",
              "    <path d=\"M120-120v-720h720v720H120Zm60-500h600v-160H180v160Zm220 220h160v-160H400v160Zm0 220h160v-160H400v160ZM180-400h160v-160H180v160Zm440 0h160v-160H620v160ZM180-180h160v-160H180v160Zm440 0h160v-160H620v160Z\"/>\n",
              "  </svg>\n",
              "    </button>\n",
              "\n",
              "  <style>\n",
              "    .colab-df-container {\n",
              "      display:flex;\n",
              "      gap: 12px;\n",
              "    }\n",
              "\n",
              "    .colab-df-convert {\n",
              "      background-color: #E8F0FE;\n",
              "      border: none;\n",
              "      border-radius: 50%;\n",
              "      cursor: pointer;\n",
              "      display: none;\n",
              "      fill: #1967D2;\n",
              "      height: 32px;\n",
              "      padding: 0 0 0 0;\n",
              "      width: 32px;\n",
              "    }\n",
              "\n",
              "    .colab-df-convert:hover {\n",
              "      background-color: #E2EBFA;\n",
              "      box-shadow: 0px 1px 2px rgba(60, 64, 67, 0.3), 0px 1px 3px 1px rgba(60, 64, 67, 0.15);\n",
              "      fill: #174EA6;\n",
              "    }\n",
              "\n",
              "    .colab-df-buttons div {\n",
              "      margin-bottom: 4px;\n",
              "    }\n",
              "\n",
              "    [theme=dark] .colab-df-convert {\n",
              "      background-color: #3B4455;\n",
              "      fill: #D2E3FC;\n",
              "    }\n",
              "\n",
              "    [theme=dark] .colab-df-convert:hover {\n",
              "      background-color: #434B5C;\n",
              "      box-shadow: 0px 1px 3px 1px rgba(0, 0, 0, 0.15);\n",
              "      filter: drop-shadow(0px 1px 2px rgba(0, 0, 0, 0.3));\n",
              "      fill: #FFFFFF;\n",
              "    }\n",
              "  </style>\n",
              "\n",
              "    <script>\n",
              "      const buttonEl =\n",
              "        document.querySelector('#df-ae1f11e8-f24c-4244-927e-41e2aacdcb3c button.colab-df-convert');\n",
              "      buttonEl.style.display =\n",
              "        google.colab.kernel.accessAllowed ? 'block' : 'none';\n",
              "\n",
              "      async function convertToInteractive(key) {\n",
              "        const element = document.querySelector('#df-ae1f11e8-f24c-4244-927e-41e2aacdcb3c');\n",
              "        const dataTable =\n",
              "          await google.colab.kernel.invokeFunction('convertToInteractive',\n",
              "                                                    [key], {});\n",
              "        if (!dataTable) return;\n",
              "\n",
              "        const docLinkHtml = 'Like what you see? Visit the ' +\n",
              "          '<a target=\"_blank\" href=https://colab.research.google.com/notebooks/data_table.ipynb>data table notebook</a>'\n",
              "          + ' to learn more about interactive tables.';\n",
              "        element.innerHTML = '';\n",
              "        dataTable['output_type'] = 'display_data';\n",
              "        await google.colab.output.renderOutput(dataTable, element);\n",
              "        const docLink = document.createElement('div');\n",
              "        docLink.innerHTML = docLinkHtml;\n",
              "        element.appendChild(docLink);\n",
              "      }\n",
              "    </script>\n",
              "  </div>\n",
              "\n",
              "\n",
              "<div id=\"df-bf7e6c1e-a9db-4dff-98dd-a81b5a64e3e2\">\n",
              "  <button class=\"colab-df-quickchart\" onclick=\"quickchart('df-bf7e6c1e-a9db-4dff-98dd-a81b5a64e3e2')\"\n",
              "            title=\"Suggest charts.\"\n",
              "            style=\"display:none;\">\n",
              "\n",
              "<svg xmlns=\"http://www.w3.org/2000/svg\" height=\"24px\"viewBox=\"0 0 24 24\"\n",
              "     width=\"24px\">\n",
              "    <g>\n",
              "        <path d=\"M19 3H5c-1.1 0-2 .9-2 2v14c0 1.1.9 2 2 2h14c1.1 0 2-.9 2-2V5c0-1.1-.9-2-2-2zM9 17H7v-7h2v7zm4 0h-2V7h2v10zm4 0h-2v-4h2v4z\"/>\n",
              "    </g>\n",
              "</svg>\n",
              "  </button>\n",
              "\n",
              "<style>\n",
              "  .colab-df-quickchart {\n",
              "      --bg-color: #E8F0FE;\n",
              "      --fill-color: #1967D2;\n",
              "      --hover-bg-color: #E2EBFA;\n",
              "      --hover-fill-color: #174EA6;\n",
              "      --disabled-fill-color: #AAA;\n",
              "      --disabled-bg-color: #DDD;\n",
              "  }\n",
              "\n",
              "  [theme=dark] .colab-df-quickchart {\n",
              "      --bg-color: #3B4455;\n",
              "      --fill-color: #D2E3FC;\n",
              "      --hover-bg-color: #434B5C;\n",
              "      --hover-fill-color: #FFFFFF;\n",
              "      --disabled-bg-color: #3B4455;\n",
              "      --disabled-fill-color: #666;\n",
              "  }\n",
              "\n",
              "  .colab-df-quickchart {\n",
              "    background-color: var(--bg-color);\n",
              "    border: none;\n",
              "    border-radius: 50%;\n",
              "    cursor: pointer;\n",
              "    display: none;\n",
              "    fill: var(--fill-color);\n",
              "    height: 32px;\n",
              "    padding: 0;\n",
              "    width: 32px;\n",
              "  }\n",
              "\n",
              "  .colab-df-quickchart:hover {\n",
              "    background-color: var(--hover-bg-color);\n",
              "    box-shadow: 0 1px 2px rgba(60, 64, 67, 0.3), 0 1px 3px 1px rgba(60, 64, 67, 0.15);\n",
              "    fill: var(--button-hover-fill-color);\n",
              "  }\n",
              "\n",
              "  .colab-df-quickchart-complete:disabled,\n",
              "  .colab-df-quickchart-complete:disabled:hover {\n",
              "    background-color: var(--disabled-bg-color);\n",
              "    fill: var(--disabled-fill-color);\n",
              "    box-shadow: none;\n",
              "  }\n",
              "\n",
              "  .colab-df-spinner {\n",
              "    border: 2px solid var(--fill-color);\n",
              "    border-color: transparent;\n",
              "    border-bottom-color: var(--fill-color);\n",
              "    animation:\n",
              "      spin 1s steps(1) infinite;\n",
              "  }\n",
              "\n",
              "  @keyframes spin {\n",
              "    0% {\n",
              "      border-color: transparent;\n",
              "      border-bottom-color: var(--fill-color);\n",
              "      border-left-color: var(--fill-color);\n",
              "    }\n",
              "    20% {\n",
              "      border-color: transparent;\n",
              "      border-left-color: var(--fill-color);\n",
              "      border-top-color: var(--fill-color);\n",
              "    }\n",
              "    30% {\n",
              "      border-color: transparent;\n",
              "      border-left-color: var(--fill-color);\n",
              "      border-top-color: var(--fill-color);\n",
              "      border-right-color: var(--fill-color);\n",
              "    }\n",
              "    40% {\n",
              "      border-color: transparent;\n",
              "      border-right-color: var(--fill-color);\n",
              "      border-top-color: var(--fill-color);\n",
              "    }\n",
              "    60% {\n",
              "      border-color: transparent;\n",
              "      border-right-color: var(--fill-color);\n",
              "    }\n",
              "    80% {\n",
              "      border-color: transparent;\n",
              "      border-right-color: var(--fill-color);\n",
              "      border-bottom-color: var(--fill-color);\n",
              "    }\n",
              "    90% {\n",
              "      border-color: transparent;\n",
              "      border-bottom-color: var(--fill-color);\n",
              "    }\n",
              "  }\n",
              "</style>\n",
              "\n",
              "  <script>\n",
              "    async function quickchart(key) {\n",
              "      const quickchartButtonEl =\n",
              "        document.querySelector('#' + key + ' button');\n",
              "      quickchartButtonEl.disabled = true;  // To prevent multiple clicks.\n",
              "      quickchartButtonEl.classList.add('colab-df-spinner');\n",
              "      try {\n",
              "        const charts = await google.colab.kernel.invokeFunction(\n",
              "            'suggestCharts', [key], {});\n",
              "      } catch (error) {\n",
              "        console.error('Error during call to suggestCharts:', error);\n",
              "      }\n",
              "      quickchartButtonEl.classList.remove('colab-df-spinner');\n",
              "      quickchartButtonEl.classList.add('colab-df-quickchart-complete');\n",
              "    }\n",
              "    (() => {\n",
              "      let quickchartButtonEl =\n",
              "        document.querySelector('#df-bf7e6c1e-a9db-4dff-98dd-a81b5a64e3e2 button');\n",
              "      quickchartButtonEl.style.display =\n",
              "        google.colab.kernel.accessAllowed ? 'block' : 'none';\n",
              "    })();\n",
              "  </script>\n",
              "</div>\n",
              "    </div>\n",
              "  </div>\n"
            ]
          },
          "metadata": {},
          "execution_count": 35
        }
      ]
    },
    {
      "cell_type": "markdown",
      "source": [
        "### 1. Quels sont la moyenne, le mode, la médiane et l’intervalle interquartile pour x1 et x2? [4]"
      ],
      "metadata": {
        "id": "IKYgNXTs_tmI"
      }
    },
    {
      "cell_type": "code",
      "source": [
        "import pandas as pd\n",
        "from scipy import stats\n",
        "\n",
        "# Chargeons le fichier CSV dans un DataFrame df\n",
        "df_q3data = pd.read_csv(\"https://docs.google.com/spreadsheets/d/1soEvQ-7fKKuBAPYMTBlvk1cDWt9goxzgCLQcC3LUDOU/export?format=csv\")\n",
        "\n",
        "# Calculons la moyenne pour x1 et x2\n",
        "mean_x1 = df_q3data[\"x1\"].mean()\n",
        "mean_x2 = df_q3data[\"x2\"].mean()\n",
        "\n",
        "# Calculons le mode pour x1 et x2\n",
        "mode_x1 = df_q3data[\"x1\"].mode()\n",
        "mode_x2 = df_q3data[\"x2\"].mode()\n",
        "\n",
        "# Calculons la médiane pour x1 et x2\n",
        "median_x1 = df_q3data[\"x1\"].median()\n",
        "median_x2 = df_q3data[\"x2\"].median()\n",
        "\n",
        "# Calculons l\"intervalle interquartile pour x1 et x2\n",
        "q1_x1 = df_q3data[\"x1\"].quantile(0.25)\n",
        "q3_x1 = df_q3data[\"x1\"].quantile(0.75)\n",
        "iqr_x1 = q3_x1 - q1_x1\n",
        "\n",
        "q1_x2 = df_q3data[\"x2\"].quantile(0.25)\n",
        "q3_x2 = df_q3data[\"x2\"].quantile(0.75)\n",
        "iqr_x2 = q3_x2 - q1_x2\n",
        "\n",
        "# Affichons les résultats\n",
        "print(\"MOYENNES:\")\n",
        "print(\"Moyenne pour x1 :\", mean_x1)\n",
        "print(\"Moyenne pour x2 :\", mean_x2)\n",
        "print(\"\\nMODES:\")\n",
        "print(\"Mode pour x1 :\", mode_x1)\n",
        "print(\"Mode pour x2 :\", mode_x2)\n",
        "print(\"\\nMEDIANES:\")\n",
        "print(\"Médiane pour x1 :\", median_x1)\n",
        "print(\"Médiane pour x2 :\", median_x2)\n",
        "print(\"\\nINTERVALLE INTERQUARTILE:\")\n",
        "print(\"Intervalle interquartile pour x1 :\", iqr_x1)\n",
        "print(\"Intervalle interquartile pour x2 :\", iqr_x2)"
      ],
      "metadata": {
        "id": "XkciYjhl_xYy",
        "colab": {
          "base_uri": "https://localhost:8080/"
        },
        "outputId": "bed10d87-3284-4570-89db-55f22458ea5c"
      },
      "execution_count": 36,
      "outputs": [
        {
          "output_type": "stream",
          "name": "stdout",
          "text": [
            "MOYENNES:\n",
            "Moyenne pour x1 : 49.790812994760515\n",
            "Moyenne pour x2 : -50.17388733310123\n",
            "\n",
            "MODES:\n",
            "Mode pour x1 : 0       0.234774\n",
            "1       0.585704\n",
            "2       0.926090\n",
            "3       0.939490\n",
            "4       0.959660\n",
            "         ...    \n",
            "395    98.096819\n",
            "396    98.645974\n",
            "397    98.874757\n",
            "398    99.091469\n",
            "399    99.516947\n",
            "Name: x1, Length: 400, dtype: float64\n",
            "Mode pour x2 : 0     -210.089433\n",
            "1     -204.386965\n",
            "2     -202.535313\n",
            "3     -202.101634\n",
            "4     -200.125071\n",
            "          ...    \n",
            "395     98.635129\n",
            "396     98.922821\n",
            "397    100.220344\n",
            "398    102.053479\n",
            "399    102.329670\n",
            "Name: x2, Length: 400, dtype: float64\n",
            "\n",
            "MEDIANES:\n",
            "Médiane pour x1 : 50.25686162982244\n",
            "Médiane pour x2 : -50.357779095568446\n",
            "\n",
            "INTERVALLE INTERQUARTILE:\n",
            "Intervalle interquartile pour x1 : 45.9107590452148\n",
            "Intervalle interquartile pour x2 : 201.3400268403476\n"
          ]
        }
      ]
    },
    {
      "cell_type": "markdown",
      "source": [
        "### 2. Quel est le coefficient de corrélation entre x1 et x2? [1]"
      ],
      "metadata": {
        "id": "HvERRYIe_yBT"
      }
    },
    {
      "cell_type": "code",
      "source": [
        "correlation = df_q3data['x1'].corr(df_q3data['x2'])\n",
        "print(\"Coefficient de corrélation entre x1 et x2 :\", correlation)"
      ],
      "metadata": {
        "id": "f41srl6v_1Rm",
        "colab": {
          "base_uri": "https://localhost:8080/"
        },
        "outputId": "567267fa-9d1b-46eb-fc73-3f38382be93b"
      },
      "execution_count": 37,
      "outputs": [
        {
          "output_type": "stream",
          "name": "stdout",
          "text": [
            "Coefficient de corrélation entre x1 et x2 : -0.8318445482811824\n"
          ]
        }
      ]
    },
    {
      "cell_type": "markdown",
      "source": [
        "### 3. Ajustez une ligne de régression et visualisez les points de données. [2]"
      ],
      "metadata": {
        "id": "FjepD6m2_1xW"
      }
    },
    {
      "cell_type": "code",
      "source": [
        "correlation = df_q3data['x2'].corr(df_q3data['x1'])\n",
        "print(\"Coefficient de corrélation entre x1 et x2 :\", correlation)"
      ],
      "metadata": {
        "id": "ix0fEUSy_4i8",
        "colab": {
          "base_uri": "https://localhost:8080/"
        },
        "outputId": "4126a864-a5e0-4eec-c6be-dc79918a61a3"
      },
      "execution_count": 38,
      "outputs": [
        {
          "output_type": "stream",
          "name": "stdout",
          "text": [
            "Coefficient de corrélation entre x1 et x2 : -0.8318445482811824\n"
          ]
        }
      ]
    },
    {
      "cell_type": "markdown",
      "source": [
        "### 4. Commentez le coefficient de corrélation, la droite de régression et votre diagramme de dispersion.[3]"
      ],
      "metadata": {
        "id": "qLD-Ctpu_5EF"
      }
    },
    {
      "cell_type": "markdown",
      "source": [],
      "metadata": {
        "id": "HktmuF8jeAve"
      }
    },
    {
      "cell_type": "code",
      "source": [
        "print(\"le coefficient de correlation est :\", correlation, \"\\nCe qui indique une forte relation entre X1 et X2 et un coefficient de corrélation\\nlinéaire négative entre les variables x1 et x2. on peutle voir sur le graphique ci-dessous\")\n",
        "\n",
        "x1 = df_q3data['x1']\n",
        "x2 = df_q3data['x2']\n",
        "\n",
        "# Calculons notre droite de régression selon x1 et x2\n",
        "pente, intercept = np.polyfit(x1, x2, 1)\n",
        "droite_de_regression = pente * x1 + intercept\n",
        "\n",
        "# Tracons maitenant nnotre diagramme de dispersion et la droite de régression\n",
        "plt.scatter(x1, x2, color='blue', label='Données (x1, x2)')\n",
        "plt.plot(x1, droite_de_regression, color='red', label='Droite de régression')\n",
        "plt.legend()\n",
        "plt.grid(True)\n",
        "\n",
        "plt.title('Diagramme de dispersion de X1 et X2 avec la droite de régression')\n",
        "plt.xlabel('Colonne x1')\n",
        "plt.ylabel('Colonne x2')\n",
        "\n",
        "plt.show()"
      ],
      "metadata": {
        "id": "1jGaC87p_7R2",
        "colab": {
          "base_uri": "https://localhost:8080/",
          "height": 524
        },
        "outputId": "8fb79b1f-2c2d-46c6-89e7-f7ba9427d9bc"
      },
      "execution_count": 39,
      "outputs": [
        {
          "output_type": "stream",
          "name": "stdout",
          "text": [
            "le coefficient de correlation est : -0.8318445482811824 \n",
            "Ce qui indique une forte relation entre X1 et X2 et un coefficient de corrélation\n",
            "linéaire négative entre les variables x1 et x2. on peutle voir sur le graphique ci-dessous\n"
          ]
        },
        {
          "output_type": "display_data",
          "data": {
            "text/plain": [
              "<Figure size 640x480 with 1 Axes>"
            ],
            "image/png": "[encoded data removed]"
          },
          "metadata": {}
        }
      ]
    },
    {
      "cell_type": "markdown",
      "source": [
        "\n",
        "\n",
        " #FIN, MERCI  !\n",
        "\n",
        "\n",
        "\n",
        "\n",
        "\n"
      ],
      "metadata": {
        "id": "5hTzV6aBgwtR"
      }
    }
  ],
  "metadata": {
    "colab": {
      "provenance": [],
      "include_colab_link": true
    },
    "kernelspec": {
      "display_name": "Python 3",
      "name": "python3"
    },
    "language_info": {
      "codemirror_mode": {
        "name": "ipython",
        "version": 3
      },
      "file_extension": ".py",
      "mimetype": "text/x-python",
      "name": "python",
      "nbconvert_exporter": "python",
      "pygments_lexer": "ipython3",
      "version": "3.11.4"
    }
  },
  "nbformat": 4,
  "nbformat_minor": 0
}