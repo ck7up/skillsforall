{
  "nbformat": 4,
  "nbformat_minor": 0,
  "metadata": {
    "colab": {
      "private_outputs": true,
      "provenance": [],
      "collapsed_sections": [
        "U6bV54E1fAMx"
      ],
      "authorship_tag": "ABX9TyP46l/ZXPUbcLULROLRXMFj",
      "include_colab_link": true
    },
    "kernelspec": {
      "name": "python3",
      "display_name": "Python 3"
    },
    "language_info": {
      "name": "python"
    }
  },
  "cells": [
    {
      "cell_type": "markdown",
      "metadata": {
        "id": "view-in-github",
        "colab_type": "text"
      },
      "source": [
        "<a href=\"https://colab.research.google.com/github/ck7up/skillsforall/blob/ck7up-skillsforall/Visualisation_des_donn%C3%A9es_avec_Pandas_et_Matploit.ipynb\" target=\"_parent\"><img src=\"https://colab.research.google.com/assets/colab-badge.svg\" alt=\"Open In Colab\"/></a>"
      ]
    },
    {
      "cell_type": "markdown",
      "source": [
        "# **Visualisation des données sur PANDAS**\n",
        "* Référence  : https://pandas.pydata.org/pandas-docs/stable/user_guide/visualization.html\n",
        "* Auteur : Christian KALLA, christian.kalla@ccnb.ca, CCNB HIVER 2024.\n",
        "* https://www.linkedin.com/in/christian-kalla/\n",
        "* kallachristianovich@gmail.com"
      ],
      "metadata": {
        "id": "FcficJywJXV6"
      }
    },
    {
      "cell_type": "markdown",
      "source": [
        "Bienvenue à ce cours sur la visualisation des données avec Matplotlib dans le contexte de la cybersécurité.\n",
        "Nous allons explorerer la version 3 de notre fichier csv qui se trouve sur github (https://raw.githubusercontent.com/ck7up/skillsforall/main/cybersecurity_attacks_data_ver3.csv).\n",
        " Il va nous permettre de comprendre ensemble des principes fondamentaux de la visualisation de données à l'aide de la bibliothèque **Matplotlib** . À travers ce cours, nous aborderons:\n",
        "1. la visualisation de base,\n",
        "2. l'utilisation de différents types de graphiques,\n",
        "3. la personnalisation des visualisations en utilisant un jeu de données représentant des attaques cybernétiques."
      ],
      "metadata": {
        "id": "oK2pxM3CUh22"
      }
    },
    {
      "cell_type": "markdown",
      "source": [
        "## 1. Visualisation de base"
      ],
      "metadata": {
        "id": "lwHmVlwdVfIB"
      }
    },
    {
      "cell_type": "markdown",
      "source": [
        "### 1.1. Importons notre DataFrame \"cyberdf\""
      ],
      "metadata": {
        "id": "te16zjb0WJCa"
      }
    },
    {
      "cell_type": "code",
      "execution_count": null,
      "metadata": {
        "id": "msOsDCXvIudt"
      },
      "outputs": [],
      "source": [
        "import pandas as pd\n",
        "import matplotlib.pyplot as plt\n",
        "\n",
        "# Charger les données depuis le fichier CSV\n",
        "url = \"https://raw.githubusercontent.com/ck7up/skillsforall/main/cybersecurity_attacks_data_ver3.csv\"\n",
        "cyberdf = pd.read_csv(url)\n",
        "\n",
        "# Afficher les premières lignes du dataframe\n",
        "cyberdf.head()"
      ]
    },
    {
      "cell_type": "markdown",
      "source": [
        "### 1.2. Exemple de visualisation de base : `\"Nombre d'attaques par type\"`\n"
      ],
      "metadata": {
        "id": "bdR1fDrIWXDy"
      }
    },
    {
      "cell_type": "markdown",
      "source": [
        "* ```import pandas as pd```: Importe la bibliothèque pandas et la renomme en tant que \"pd\" pour faciliter l'utilisation.\n",
        "\n",
        "* `import matplotlib.pyplot` as plt: Importe la sous-bibliothèque pyplot de la bibliothèque matplotlib et la renomme en tant que \"plt\" pour faciliter l'utilisation lors de la création de graphiques.\n",
        "\n",
        "* `url=\"https://raw.githubusercontent.com/ck7up/skillsforall/main/cybersecurity_attacks_data_ver3.csv\"`: Définit l'URL du fichier CSV contenant les données sur les attaques informatiques.\n",
        "\n",
        "* `cyberdf = pd.read_csv(url)`: Utilise la fonction read_csv de pandas pour charger les données du fichier CSV à l'URL spécifiée dans un objet appelé \"cyberdf\" (DataFrame), qui est une structure de données tabulaire de pandas.\n",
        "\n",
        "* `attack_type_counts = df['AttackType'].value_counts()`: Compte le nombre d'occurrences de chaque type d'attaque en utilisant la colonne 'AttackType' du DataFrame et stocke les résultats dans la variable \"attack_type_counts\".\n",
        "\n",
        "* `plt.figure(figsize=(10, 6))`: Crée une figure (graphique) avec une taille de 10 unités de largeur sur 6 unités de hauteur.\n",
        "\n",
        "* `attack_type_counts.plot(kind='bar', color='skyblue')`: Utilise la méthode plot pour créer un graphique de type barre en utilisant les données de \"attack_type_counts\" avec une couleur de barre définie comme \"skyblue\".\n",
        "\n",
        "* `plt.title('Nombre d\\'attaques par type'):` Ajoute un titre au graphique.\n",
        "\n",
        "* `plt.xlabel('Type d\\'attaque')`: Ajoute une étiquette à l'axe des x (horizontal) du graphique.\n",
        "\n",
        "* `plt.ylabel('Nombre d\\'attaques')`: Ajoute une étiquette à l'axe des y (vertical) du graphique.\n",
        "\n",
        "* `plt.show()`: Affiche le graphique."
      ],
      "metadata": {
        "id": "Rrat3VqcYN0s"
      }
    },
    {
      "cell_type": "code",
      "source": [
        "attack_type_counts = cyberdf['AttackType'].value_counts()\n",
        "plt.figure(figsize=(10, 6))\n",
        "\n",
        "attack_type_counts.plot(kind='bar', color='skyblue')\n",
        "\n",
        "plt.title('Nombre d\\'attaques par type')\n",
        "plt.xlabel('Type d\\'attaque')\n",
        "plt.ylabel('Nombre d\\'attaques')\n",
        "\n",
        "plt.show()"
      ],
      "metadata": {
        "id": "WZr25aNsV54Q"
      },
      "execution_count": null,
      "outputs": []
    },
    {
      "cell_type": "markdown",
      "source": [
        "### **1.3. Diagramme à secteurs (Pie chart) pour la répartition des attaques par gravité:** `\"Répartition des attaques par gravité\"`"
      ],
      "metadata": {
        "id": "kT6x9ggKZW7V"
      }
    },
    {
      "cell_type": "markdown",
      "source": [
        "* `severity_counts = df['Severity'].value_counts()`: Compte le nombre d'occurrences de chaque niveau de gravité d'attaque et stocke les résultats dans la variable severity_counts.\n",
        "\n",
        "* `plt.figure(figsize=(8, 8))`: Crée une figure (graphique) avec une taille de 8 unités de largeur sur 8 unités de hauteur.\n",
        "\n",
        "* `severity_counts.plot(kind='pie', autopct='%1.1f%%', colors=['lightcoral', 'lightgoldenrodyellow', 'lightblue'])` : Utilise la méthode plot avec `kind='pie'` pour créer un graphique en secteurs. L'argument `autopct='%1.1f%%' ` ajoute les pourcentages sur chaque secteur, et colors spécifie les couleurs à utiliser pour chaque secteur.\n",
        "\n",
        "`plt.title('Répartition des attaques par gravité')`: Ajoute un titre au graphique.\n",
        "\n",
        "`plt.show()`: Affiche le graphique en secteurs."
      ],
      "metadata": {
        "id": "oSQ0suBcZxn5"
      }
    },
    {
      "cell_type": "code",
      "source": [
        "severity_counts = cyberdf['Severity'].value_counts()\n",
        "plt.figure(figsize=(8, 8))\n",
        "\n",
        "severity_counts.plot(kind='pie', autopct='%2.1f%%', colors=['lightcoral', 'lightgoldenrodyellow', 'lightblue'])\n",
        "plt.title('Répartition des attaques par gravité')\n",
        "\n",
        "plt.show()"
      ],
      "metadata": {
        "id": "WkJ1JM6eZWN4"
      },
      "execution_count": null,
      "outputs": []
    },
    {
      "cell_type": "markdown",
      "source": [
        "### **1.4. Diagramme à barres empilées :** `Répartition des attaques par statut`."
      ],
      "metadata": {
        "id": "RiEyoFSQbKXU"
      }
    },
    {
      "cell_type": "markdown",
      "source": [
        "\n",
        "* `status_counts = cyberdf['Status'].value_counts()`: Compte le nombre d'occurrences de chaque statut d'attaque et stocke les résultats dans la variable `status_counts`.\n",
        "\n",
        "* `plt.figure(figsize=(10, 6))`: Crée une figure (graphique) avec une taille de 10 unités de largeur sur 6 unités de hauteur.\n",
        "\n",
        "* `status_plot = status_counts.plot(kind='bar', stacked=True, color=['lightcoral', 'lightblue', 'lightgreen', 'orange'])`: Utilise la méthode `plot` avec `kind='bar'` pour créer un graphique à barres. L'argument `stacked=True` empile les barres, et l'argument `color` spécifie les couleurs à utiliser pour chaque barre. Les couleurs sont définies comme ['lightcoral', 'lightblue', 'lightgreen', 'orange'].\n",
        "\n",
        "* La boucle `for i, value in enumerate(status_counts):` itère sur les valeurs du comptage des statuts.\n",
        "\n",
        "* `status_plot.text(i, value + 0.5, str(value), ha='center', va='bottom')`: Ajoute du texte au-dessus de chaque barre dans le graphique. Les coordonnées `(i, value + 0.5)` représentent la position du texte, où `i` est l'indice de la barre, `value + 0.5` ajuste la position verticale pour placer le texte au-dessus de la barre, et `str(value)` est la valeur à afficher. Les arguments `ha='center'` et `va='bottom'` alignent le texte au centre horizontalement et au bas verticalement.\n",
        "\n",
        "* `plt.title('Répartition des attaques par statut')`: Ajoute un titre au graphique.\n",
        "\n",
        "* `plt.xlabel('Statut')`: Ajoute une étiquette à l'axe des x (horizontal) du graphique.\n",
        "\n",
        "* `plt.ylabel('Nombre d\\'attaques')`: Ajoute une étiquette à l'axe des y (vertical) du graphique.\n",
        "\n",
        "* `plt.show()`: Affiche le graphique à barres avec les nombres ajoutés au-dessus de chaque barre."
      ],
      "metadata": {
        "id": "dYTY7yYnb2jY"
      }
    },
    {
      "cell_type": "code",
      "source": [
        "status_counts = cyberdf['Status'].value_counts()\n",
        "plt.figure(figsize=(10, 6))\n",
        "\n",
        "status_plot =status_counts.plot(kind='bar', stacked=True, color=['lightcoral', 'lightblue', 'lightgreen', 'orange'])\n",
        "\n",
        "# Ajout des nombres sur les barres\n",
        "for i, value in enumerate(status_counts):\n",
        "    status_plot.text(i, value + 0.5, str(value), ha='center', va='bottom')\n",
        "\n",
        "plt.title('Répartition des attaques par statut')\n",
        "plt.xlabel('Statut')\n",
        "plt.ylabel('Nombre d\\'attaques')\n",
        "\n",
        "plt.show()\n"
      ],
      "metadata": {
        "id": "iGXL4woMadu8"
      },
      "execution_count": null,
      "outputs": []
    },
    {
      "cell_type": "markdown",
      "source": [
        "## 1.5. Visualisation de la distribution de la durée des attaques : `\"Distribution de la durée des attaques\"`  Histogramme.\n"
      ],
      "metadata": {
        "id": "Jwv4TH7ymX1W"
      }
    },
    {
      "cell_type": "markdown",
      "source": [
        "* `filtered_data = cyberdf.dropna(subset=['AttackDuration'])`: Utilise la méthode `dropna` de pandas pour supprimer les lignes contenant des valeurs nulles dans la colonne 'AttackDuration'. Les données filtrées sont ensuite stockées dans la variable `filtered_data`.\n",
        "\n",
        "* `plt.figure(figsize=(10, 6))`: Crée une figure (graphique) avec une taille de 10 unités de largeur sur 6 unités de hauteur.\n",
        "\n",
        "* `plt.hist(filtered_data['AttackDuration'], bins=30, color='skyblue', edgecolor='black')`: Utilise la méthode `hist` pour créer un histogramme. Les valeurs de l'axe des x sont la durée des attaques, l'argument `bins=30` spécifie le nombre de bacs à utiliser, la couleur est définie comme \"skyblue\", et la couleur des bords est définie comme noir.\n",
        "\n",
        "* `plt.title('Distribution de la durée des attaques')`: Ajoute un titre au graphique.\n",
        "\n",
        "* `plt.xlabel('Durée de l\\'attaque (secondes)')`: Ajoute une étiquette à l'axe des x (horizontal) du graphique, indiquant la durée de l'attaque en secondes.\n",
        "\n",
        "* `plt.ylabel('Fréquence')`: Ajoute une étiquette à l'axe des y (vertical) du graphique, indiquant la fréquence (nombre d'occurrences) des différentes durées d'attaque.\n",
        "\n",
        "* `plt.grid(axis='y', linestyle='--')`: Ajoute une grille en pointillés à l'axe des y pour faciliter la lecture des valeurs.\n",
        "\n",
        "* `plt.grid(axis='x', linestyle='--')`: Ajoute une grille en pointillés à l'axe des x pour faciliter la lecture des valeurs.\n",
        "\n",
        "* `plt.show()`: Affiche l'histogramme représentant la distribution de la durée des attaques."
      ],
      "metadata": {
        "id": "E8xtK5LhnuoN"
      }
    },
    {
      "cell_type": "code",
      "source": [
        "# Comme expliqué en classe, nous filtrons les données nulles pour la durée des attaques\n",
        "filtered_data = cyberdf.dropna(subset=['AttackDuration'])\n",
        "\n",
        "plt.figure(figsize=(10, 6))\n",
        "\n",
        "plt.hist(filtered_data['AttackDuration'], bins=30, color='skyblue', edgecolor='black')\n",
        "\n",
        "plt.title('Distribution de la durée des attaques')\n",
        "plt.xlabel('Durée de l\\'attaque (secondes)')\n",
        "plt.ylabel('Fréquence')\n",
        "\n",
        "plt.grid(axis='y', linestyle='--')\n",
        "plt.grid(axis='x', linestyle='--')\n",
        "\n",
        "\n",
        "plt.show()"
      ],
      "metadata": {
        "id": "C7bGzr0mmbfg"
      },
      "execution_count": null,
      "outputs": []
    },
    {
      "cell_type": "markdown",
      "source": [
        "# 2. Visualisation avancées"
      ],
      "metadata": {
        "id": "KrCoahdkcd31"
      }
    },
    {
      "cell_type": "markdown",
      "source": [
        "## 2.1. Visualisation de la répartition des attaques par type et par statut\n"
      ],
      "metadata": {
        "id": "U6bV54E1fAMx"
      }
    },
    {
      "cell_type": "markdown",
      "source": [
        "\n",
        "\n",
        "* `type_status_counts = cyberdf.groupby(['AttackType', 'Status']).size().unstack()`: Utilise la méthode `groupby` de pandas pour regrouper les données en fonction des colonnes 'AttackType' et 'Status'. Ensuite, `size()` compte le nombre d'occurrences pour chaque combinaison de type d'attaque et de statut, et `unstack()` pivote ces données pour créer un DataFrame où les colonnes représentent les différents statuts et les index représentent les types d'attaques.\n",
        "\n",
        "* `type_status_counts.plot(kind='bar', stacked=True, colormap='tab10', figsize=(12, 8))`: Utilise la méthode `plot` pour créer un graphique à barres empilées. L'argument `kind='bar'` spécifie le type de graphique, `stacked=True` empile les barres, `colormap='tab10'` spécifie la colormap à utiliser pour les différentes catégories, et `figsize=(12, 8)` définit la taille de la figure.\n",
        "\n",
        "* `plt.title('Répartition des attaques par type et par statut')`: Ajoute un titre au graphique.\n",
        "\n",
        "* `plt.xlabel('Type d\\'attaque')`: Ajoute une étiquette à l'axe des x (horizontal) du graphique.\n",
        "\n",
        "* `plt.ylabel('Nombre d\\'attaques')`: Ajoute une étiquette à l'axe des y (vertical) du graphique.\n",
        "\n",
        "* `plt.legend(title='Statut')`: Ajoute une légende au graphique, spécifiant que les couleurs dans le graphique représentent différents statuts. L'argument `title='Statut'` ajoute un titre à la légende.\n",
        "\n",
        "* `plt.show()`: Affiche le graphique à barres empilées."
      ],
      "metadata": {
        "id": "lKuBhvH-hDpe"
      }
    },
    {
      "cell_type": "code",
      "source": [
        "type_status_counts = cyberdf.groupby(['AttackType', 'Status']).size().unstack()\n",
        "\n",
        "type_status_counts.plot(kind='bar', stacked=True, colormap='tab10', figsize=(12, 8))\n",
        "\n",
        "plt.title('Répartition des attaques par type et par statut')\n",
        "plt.xlabel('Type d\\'attaque')\n",
        "plt.ylabel('Nombre d\\'attaques')\n",
        "\n",
        "plt.legend(title='Statut')\n",
        "\n",
        "plt.show()"
      ],
      "metadata": {
        "id": "c1KXNNHEejgI"
      },
      "execution_count": null,
      "outputs": []
    },
    {
      "cell_type": "markdown",
      "source": [
        "## 2.2. Visualisation de la durée moyenne des attaques par type"
      ],
      "metadata": {
        "id": "hchNG2KOhcDm"
      }
    },
    {
      "cell_type": "markdown",
      "source": [
        "* `duration_by_type = df.groupby('AttackType')['AttackDuration'].mean()`: Utilise la méthode `groupby` de pandas pour regrouper les données en fonction du type d'attaque. Ensuite, la méthode `mean()` calcule la durée moyenne des attaques pour chaque type.\n",
        "\n",
        "* `plt.figure(figsize=(12, 6))`: Crée une figure (graphique) avec une taille de 12 unités de largeur sur 6 unités de hauteur.\n",
        "\n",
        "* `plt.scatter(duration_by_type.index, duration_by_type.values, s=100, color='orange')`: Utilise la méthode `scatter` pour créer un nuage de points. Les valeurs de l'axe des x sont les types d'attaques, les valeurs de l'axe des y sont les durées moyennes, et la couleur est définie comme orange. L'argument `s=100` spécifie la taille des points.\n",
        "\n",
        "* `plt.title('Durée moyenne des attaques par type')`: Ajoute un titre au graphique.\n",
        "\n",
        "* `plt.xlabel('Type d\\'attaque')`: Ajoute une étiquette à l'axe des x (horizontal) du graphique.\n",
        "\n",
        "* `plt.ylabel('Durée moyenne (secondes)')`: Ajoute une étiquette à l'axe des y (vertical) du graphique.\n",
        "\n",
        "* `plt.grid(True)`: Ajoute une grille au graphique pour faciliter la lecture des valeurs.\n",
        "\n",
        "* `plt.show()`: Affiche le graphique de dispersion de la durée moyenne des attaques par type."
      ],
      "metadata": {
        "id": "qho2OjUwiBIG"
      }
    },
    {
      "cell_type": "code",
      "source": [
        "duration_by_type = cyberdf.groupby('AttackType')['AttackDuration'].mean()\n",
        "plt.figure(figsize=(12, 6))\n",
        "\n",
        "plt.scatter(duration_by_type.index, duration_by_type.values, s=100, color='orange')\n",
        "\n",
        "plt.title('Durée moyenne des attaques par type')\n",
        "plt.xlabel('Type d\\'attaque')\n",
        "plt.ylabel('Durée moyenne (secondes)')\n",
        "\n",
        "# plt.grid(True)\n",
        "\n",
        "plt.show()"
      ],
      "metadata": {
        "id": "NfiHtKxZej8q"
      },
      "execution_count": null,
      "outputs": []
    },
    {
      "cell_type": "markdown",
      "source": [
        "## 2.3. Visualisation de la durée des attaques via un nuage de points (Scatter)"
      ],
      "metadata": {
        "id": "16nrUP6KioCN"
      }
    },
    {
      "cell_type": "markdown",
      "source": [
        "* `filtered_data = cyberdf.dropna(subset=['Severity', 'AttackDuration'])`: Utilise la méthode `dropna` de pandas pour supprimer les lignes contenant des valeurs nulles dans les colonnes 'Severity' et 'AttackDuration'. Les données filtrées sont ensuite stockées dans la variable `filtered_data`.\n",
        "\n",
        "* `plt.figure(figsize=(10, 6))`: Crée une figure (graphique) avec une taille de 10 unités de largeur sur 6 unités de hauteur.\n",
        "\n",
        "* `plt.scatter(filtered_data['Severity'], filtered_data['AttackDuration'], color='skyblue', alpha=0.7)`: Utilise la méthode `scatter` pour créer un nuage de points. Les valeurs de l'axe des x sont la gravité des attaques et celles de l'axe des y sont la durée de l'attaque en secondes. La couleur des points est définie comme \"skyblue\" avec une transparence de 0.7.\n",
        "\n",
        "* `plt.title('Nuage de points : Gravité des attaques vs Durée')`: Ajoute un titre au graphique.\n",
        "\n",
        "* `plt.xlabel('Gravité des attaques')`: Ajoute une étiquette à l'axe des x (horizontal) du graphique, indiquant la gravité des attaques.\n",
        "\n",
        "* `plt.ylabel('Durée de l\\'attaque (secondes)')`: Ajoute une étiquette à l'axe des y (vertical) du graphique, indiquant la durée de l'attaque en secondes.\n",
        "\n",
        "* `plt.show()`: Affiche le graphique de dispersion représentant la relation entre la gravité des attaques et leur durée."
      ],
      "metadata": {
        "id": "oqbbSBLQl63M"
      }
    },
    {
      "cell_type": "code",
      "source": [
        "# Nous devons filtrer les données non nulles pour Severity et AttackDuration pour eviter les erreurs :)\n",
        "filtered_data = cyberdf.dropna(subset=['Severity', 'AttackDuration'])\n",
        "\n",
        "plt.figure(figsize=(10, 6))\n",
        "\n",
        "plt.scatter(filtered_data['Severity'], filtered_data['AttackDuration'], color='skyblue', alpha=0.7)\n",
        "\n",
        "plt.title('Nuage de points : Gravité des attaques vs Durée')\n",
        "plt.xlabel('Gravité des attaques')\n",
        "plt.ylabel('Durée de l\\'attaque (secondes)')\n",
        "\n",
        "# plt.grid(True)\n",
        "\n",
        "plt.show()"
      ],
      "metadata": {
        "id": "AZpS-4vHhmfm"
      },
      "execution_count": null,
      "outputs": []
    },
    {
      "cell_type": "markdown",
      "source": [
        "## 2.4. Visualisation de la courbe de densité de la durée des attaques"
      ],
      "metadata": {
        "id": "GrQ21A0Zp9J5"
      }
    },
    {
      "cell_type": "markdown",
      "source": [
        "* `import seaborn as sns`: Importe la bibliothèque Seaborn sous l'alias `sns`.\n",
        "\n",
        "* `filtered_data = cyberdf.dropna(subset=['AttackDuration'])`: Utilise la méthode `dropna` de pandas pour supprimer les lignes contenant des valeurs nulles dans la colonne 'AttackDuration'. Les données filtrées sont ensuite stockées dans la variable `filtered_data`.\n",
        "\n",
        "* `plt.figure(figsize=(10, 6))`: Crée une figure (graphique) avec une taille de 10 unités de largeur sur 6 unités de hauteur.\n",
        "\n",
        "* `sns.kdeplot(filtered_data['AttackDuration'], fill=True, color='skyblue')`: Utilise la fonction `kdeplot` de Seaborn pour créer une courbe de densité (KDE) de la distribution de la durée des attaques. L'argument `fill=True` remplit l'aire sous la courbe, et la couleur est définie comme 'skyblue'.\n",
        "\n",
        "* `plt.title('Courbe de densité de la durée des attaques')`: Ajoute un titre au graphique.\n",
        "\n",
        "* `plt.xlabel('Durée de l\\'attaque (secondes)')`: Ajoute une étiquette à l'axe des x (horizontal) du graphique, indiquant la durée de l'attaque en secondes.\n",
        "\n",
        "* `plt.ylabel('Densité')`: Ajoute une étiquette à l'axe des y (vertical) du graphique, indiquant la densité de la distribution.\n",
        "\n",
        "* `plt.grid(axis='y', linestyle='--')`: Ajoute une grille en pointillés à l'axe des y pour faciliter la lecture des valeurs.\n",
        "\n",
        "* `plt.show()`: Affiche la courbe de densité de la durée des attaques."
      ],
      "metadata": {
        "id": "ud2nOgcGqBhZ"
      }
    },
    {
      "cell_type": "code",
      "source": [
        "import seaborn as sns\n",
        "filtered_data = cyberdf.dropna(subset=['AttackDuration'])\n",
        "\n",
        "plt.figure(figsize=(10, 6))\n",
        "\n",
        "sns.kdeplot(filtered_data['AttackDuration'], fill=True, color='skyblue')\n",
        "\n",
        "plt.title('Courbe de densité de la durée des attaques')\n",
        "plt.xlabel('Durée de l\\'attaque (secondes)')\n",
        "plt.ylabel('Densité')\n",
        "\n",
        "plt.grid(axis='y', linestyle='--')\n",
        "\n",
        "plt.show()\n"
      ],
      "metadata": {
        "id": "QHHWhsXii8xB"
      },
      "execution_count": null,
      "outputs": []
    },
    {
      "cell_type": "markdown",
      "source": [
        "## 2.5. Visualisation de l'évolution du nombre d'attaques par statut au fil du temps"
      ],
      "metadata": {
        "id": "jkXdRHW-slf6"
      }
    },
    {
      "cell_type": "markdown",
      "source": [
        "* `cyberdf['AttackDate'] = pd.to_datetime(cyberdf['AttackDate'])`: Convertit la colonne 'AttackDate' du DataFrame `cyberdf` en format de date en utilisant la méthode `pd.to_datetime()`. Cela permet de traiter les dates comme des objets temporels.\n",
        "\n",
        "* `.size() `: Renvoie un entier représentant le nombre d'éléments dans cet objet.\n",
        "Renvoie le nombre de lignes si série. Sinon, renvoie le nombre de lignes multiplié par le nombre de colonnes si DataFrame.\n",
        "\n",
        "* `attacks_by_status = cyberdf.groupby('Status').size()`: Regroupe les données par la colonne 'Status' (Statut) et compte le nombre d'attaques pour chaque statut à l'aide de `size()`. Les résultats sont stockés dans la variable `attacks_by_status`.\n",
        "\n",
        "* `plt.figure(figsize=(10, 6))`: Crée une figure (graphique) avec une taille de 10 unités de largeur sur 6 unités de hauteur.\n",
        "\n",
        "* `attacks_by_status.plot(kind='line', marker='o', color='blue', linestyle='-', label='Nombre d\\'attaques')`: Utilise la méthode `plot` pour créer une courbe d'évolution du nombre d'attaques par statut au fil du temps. Les paramètres spécifiés incluent le type de graphique (`kind='line'`), le style du marqueur (`marker='o'`), la couleur de la ligne (`color='blue'`), le style de ligne (`linestyle='-'`), et une étiquette pour la légende (`label='Nombre d\\'attaques'`).\n",
        "\n",
        "* `plt.title('Évolution du nombre d\\'attaques par statut au fil du temps')`: Ajoute un titre au graphique.\n",
        "\n",
        "* `plt.xlabel('Statut')`: Ajoute une étiquette à l'axe des x (horizontal) du graphique, indiquant les différents statuts.\n",
        "\n",
        "* `plt.ylabel('Nombre d\\'attaques')`: Ajoute une étiquette à l'axe des y (vertical) du graphique, indiquant le nombre d'attaques.\n",
        "\n",
        "* `plt.grid(True)`: Ajoute une grille au graphique pour faciliter la lecture des valeurs.\n",
        "\n",
        "* `plt.legend()`: Ajoute une légende au graphique en utilisant les étiquettes définies précédemment.\n",
        "\n",
        "* `plt.show()`: Affiche la courbe d'évolution du nombre d'attaques par statut au fil du temps."
      ],
      "metadata": {
        "id": "jBVtI6OZsqc7"
      }
    },
    {
      "cell_type": "code",
      "source": [
        "# On converti la colonne 'AttackDate' en format de date avec la methode .to_datetime()\n",
        "cyberdf['AttackDate'] = pd.to_datetime(cyberdf['AttackDate'])\n",
        "\n",
        "# Regrouper les données par statut et compter le nombre d'attaques\n",
        "attacks_by_status = cyberdf.groupby('Status').size()\n",
        "\n",
        "# Créer une courbe d'évolution du nombre d'attaques par statut\n",
        "plt.figure(figsize=(10, 6))\n",
        "attacks_by_status.plot(kind='line', marker='o', color='g', linestyle='--', label='Nombre d\\'attaques')\n",
        "\n",
        "plt.title('Évolution du nombre d\\'attaques par statut au fil du temps')\n",
        "plt.xlabel('Statut')\n",
        "plt.ylabel('Nombre d\\'attaques')\n",
        "\n",
        "plt.grid(True)\n",
        "plt.legend()\n",
        "plt.show()"
      ],
      "metadata": {
        "id": "Sa5GEn1FjR7z"
      },
      "execution_count": null,
      "outputs": []
    },
    {
      "cell_type": "markdown",
      "source": [
        "## 2.6. Visualisation de la distribution des types d'attaques et de la gravité des attaques avec un bloc de trois histogrammes."
      ],
      "metadata": {
        "id": "Nta1ejQCxb1X"
      }
    },
    {
      "cell_type": "markdown",
      "source": [
        "* `filtered_data_ip = cyberdf.dropna(subset=['AttackerIP']).copy()`: Utilise la méthode `dropna` de pandas pour supprimer les lignes contenant des valeurs nulles dans la colonne 'AttackerIP'. Les données filtrées sont ensuite copiées dans une nouvelle DataFrame `filtered_data_ip`.\n",
        "\n",
        "* Convertit les colonnes 'AttackType', 'Severity', et 'AttackerIP' en chaînes de caractères à l'aide des méthodes `astype(str)`.\n",
        "\n",
        "* `plt.figure(figsize=(18, 5))`: Définit la taille de la figure globale à 18 unités de largeur sur 5 unités de hauteur.\n",
        "\n",
        "* `plt.subplot(1, 3, 1)`: Crée le premier sous-traceur pour le premier histogramme. La notation `(1, 3, 1)` signifie qu'il y a 1 ligne, 3 colonnes, et celui-ci est le premier sous-traceur.\n",
        "\n",
        "* `plt.hist(filtered_data_ip['AttackType'], color='skyblue', edgecolor='black', alpha=0.7)`: Utilise la méthode `hist` pour créer un histogramme de la distribution des types d'attaque. La couleur est définie comme 'skyblue', la couleur des bords est définie comme noir, et `alpha=0.7` spécifie la transparence.\n",
        "\n",
        "* `plt.title('Distribution des types d\\'attaque')`: Ajoute un titre au premier histogramme.\n",
        "\n",
        "* `plt.xlabel('Type d\\'attaque')`: Ajoute une étiquette à l'axe des x (horizontal) du premier histogramme.\n",
        "\n",
        "* `plt.ylabel('Fréquence')`: Ajoute une étiquette à l'axe des y (vertical) du premier histogramme.\n",
        "\n",
        "* Les étapes similaires sont répétées pour les deuxième et troisième histogrammes, en ajustant les données et les étiquettes correspondantes.\n",
        "\n",
        "* `plt.xticks(rotation=90)`: Fait pivoter les étiquettes de l'axe des x du troisième histogramme à 90 degrés pour une meilleure lisibilité.\n",
        "\n",
        "* `plt.tight_layout()`: Ajuste automatiquement la disposition des sous-traceurs pour éviter les chevauchements.\n",
        "\n",
        "* `plt.show()`: Affiche les trois histogrammes."
      ],
      "metadata": {
        "id": "QlFCfpIfxlWS"
      }
    },
    {
      "cell_type": "code",
      "source": [
        "filtered_data_ip = cyberdf.dropna(subset=['AttackerIP', 'Severity', 'AttackType']).copy()\n",
        "\n",
        "filtered_data_ip['AttackType'] = filtered_data_ip['AttackType'].astype(str)\n",
        "filtered_data_ip['Severity'] = filtered_data_ip['Severity'].astype(str)\n",
        "filtered_data_ip['AttackerIP'] = filtered_data_ip['AttackerIP'].astype(str)\n",
        "\n",
        "plt.figure(figsize=(18, 5))\n",
        "\n",
        "plt.subplot(1, 3, 1)\n",
        "plt.hist(filtered_data_ip['AttackType'])\n",
        "plt.title('Distribution des types d\\'attaque')\n",
        "plt.xlabel('Type d\\'attaque')\n",
        "plt.ylabel('Fréquence')\n",
        "plt.xticks(rotation=90)\n",
        "\n",
        "\n",
        "plt.subplot(1, 3, 2)\n",
        "plt.hist(filtered_data_ip['Severity'], edgecolor='black', alpha=0.7)\n",
        "plt.title('Distribution des niveaux de gravité')\n",
        "plt.xlabel('Niveau de gravité')\n",
        "plt.ylabel('Fréquence')\n",
        "plt.xticks(rotation=90)\n",
        "\n",
        "\n",
        "plt.subplot(1, 3, 3)\n",
        "plt.hist(filtered_data_ip['AttackerIP'],  edgecolor='black', alpha=0.7)\n",
        "plt.title('Distribution des adresses IP des attaquants')\n",
        "plt.xlabel('Adresse IP de l\\'attaquant')\n",
        "plt.ylabel('Fréquence')\n",
        "plt.xticks(rotation=90)\n",
        "\n",
        "# Afficher les graphiques\n",
        "plt.tight_layout()\n",
        "\n",
        "plt.show()"
      ],
      "metadata": {
        "id": "19B5-Zcjsft5"
      },
      "execution_count": null,
      "outputs": []
    },
    {
      "cell_type": "code",
      "source": [],
      "metadata": {
        "id": "KL1GovSg3JLV"
      },
      "execution_count": null,
      "outputs": []
    }
  ]
}